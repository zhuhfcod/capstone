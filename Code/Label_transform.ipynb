{
 "cells": [
  {
   "cell_type": "code",
   "execution_count": 1,
   "metadata": {},
   "outputs": [],
   "source": [
    "import pandas\n",
    "import numpy\n",
    "import os"
   ]
  },
  {
   "cell_type": "code",
   "execution_count": 2,
   "metadata": {
    "pycharm": {
     "name": "#%%\n"
    }
   },
   "outputs": [],
   "source": [
    "path = 'dataset/image/business'"
   ]
  },
  {
   "cell_type": "code",
   "execution_count": 3,
   "metadata": {},
   "outputs": [],
   "source": [
    "files = os.listdir(path)\n",
    "for i, file in enumerate(files):\n",
    "    NewFileName = os.path.join(path, '1' + file[0:3] +'.jpg')\n",
    "    OldFileName = os.path.join(path, file)\n",
    "    os.rename(OldFileName, NewFileName)"
   ]
  },
  {
   "cell_type": "code",
   "execution_count": 4,
   "metadata": {},
   "outputs": [],
   "source": [
    "path = 'dataset/image/entertainment'\n",
    "files = os.listdir(path)\n",
    "for i, file in enumerate(files):\n",
    "    NewFileName = os.path.join(path, '2' + file[0:3] +'.jpg')\n",
    "    OldFileName = os.path.join(path, file)\n",
    "    os.rename(OldFileName, NewFileName)"
   ]
  },
  {
   "cell_type": "code",
   "execution_count": 5,
   "metadata": {},
   "outputs": [],
   "source": [
    "path = 'dataset/image/politics'\n",
    "files = os.listdir(path)\n",
    "for i, file in enumerate(files):\n",
    "    NewFileName = os.path.join(path, '3' + file[0:3] +'.jpg')\n",
    "    OldFileName = os.path.join(path, file)\n",
    "    os.rename(OldFileName, NewFileName)"
   ]
  },
  {
   "cell_type": "code",
   "execution_count": 6,
   "metadata": {},
   "outputs": [],
   "source": [
    "path = 'dataset/image/sport'\n",
    "files = os.listdir(path)\n",
    "for i, file in enumerate(files):\n",
    "    NewFileName = os.path.join(path, '4' + file[0:3] +'.jpg')\n",
    "    OldFileName = os.path.join(path, file)\n",
    "    os.rename(OldFileName, NewFileName)"
   ]
  },
  {
   "cell_type": "code",
   "execution_count": 7,
   "metadata": {},
   "outputs": [],
   "source": [
    "path = 'dataset/image/technology'\n",
    "files = os.listdir(path)\n",
    "for i, file in enumerate(files):\n",
    "    NewFileName = os.path.join(path, '5' + file[0:3] +'.jpg')\n",
    "    OldFileName = os.path.join(path, file)\n",
    "    os.rename(OldFileName, NewFileName)"
   ]
  },
  {
   "cell_type": "code",
   "execution_count": 8,
   "metadata": {},
   "outputs": [],
   "source": [
    "path = 'dataset/textfile/business'"
   ]
  },
  {
   "cell_type": "code",
   "execution_count": 9,
   "metadata": {},
   "outputs": [],
   "source": [
    "files = os.listdir(path)\n",
    "for i, file in enumerate(files):\n",
    "    NewFileName = os.path.join(path, '1' + file[0:3] +'.txt')\n",
    "    OldFileName = os.path.join(path, file)\n",
    "    os.rename(OldFileName, NewFileName)"
   ]
  },
  {
   "cell_type": "code",
   "execution_count": 10,
   "metadata": {},
   "outputs": [],
   "source": [
    "path = 'dataset/textfile/entertainment'\n",
    "files = os.listdir(path)\n",
    "for i, file in enumerate(files):\n",
    "    NewFileName = os.path.join(path, '2' + file[0:3] +'.txt')\n",
    "    OldFileName = os.path.join(path, file)\n",
    "    os.rename(OldFileName, NewFileName)"
   ]
  },
  {
   "cell_type": "code",
   "execution_count": 11,
   "metadata": {},
   "outputs": [],
   "source": [
    "path = 'dataset/textfile/politics'\n",
    "files = os.listdir(path)\n",
    "for i, file in enumerate(files):\n",
    "    NewFileName = os.path.join(path, '3' + file[0:3] +'.txt')\n",
    "    OldFileName = os.path.join(path, file)\n",
    "    os.rename(OldFileName, NewFileName)"
   ]
  },
  {
   "cell_type": "code",
   "execution_count": 12,
   "metadata": {},
   "outputs": [],
   "source": [
    "path = 'dataset/textfile/sport'\n",
    "files = os.listdir(path)\n",
    "for i, file in enumerate(files):\n",
    "    NewFileName = os.path.join(path, '4' + file[0:3] +'.txt')\n",
    "    OldFileName = os.path.join(path, file)\n",
    "    os.rename(OldFileName, NewFileName)"
   ]
  },
  {
   "cell_type": "code",
   "execution_count": 13,
   "metadata": {},
   "outputs": [],
   "source": [
    "path = 'dataset/textfile/tech'\n",
    "files = os.listdir(path)\n",
    "for i, file in enumerate(files):\n",
    "    NewFileName = os.path.join(path, '5' + file[0:3] +'.txt')\n",
    "    OldFileName = os.path.join(path, file)\n",
    "    os.rename(OldFileName, NewFileName)"
   ]
  },
  {
   "cell_type": "code",
   "execution_count": 13,
   "metadata": {},
   "outputs": [],
   "source": []
  }
 ],
 "metadata": {
  "kernelspec": {
   "display_name": "PyCharm (Case-1-Team-5)",
   "language": "python",
   "name": "pycharm-c4c868d6"
  },
  "language_info": {
   "codemirror_mode": {
    "name": "ipython",
    "version": 3
   },
   "file_extension": ".py",
   "mimetype": "text/x-python",
   "name": "python",
   "nbconvert_exporter": "python",
   "pygments_lexer": "ipython3",
   "version": "3.6.13"
  },
  "toc": {
   "base_numbering": 1,
   "nav_menu": {},
   "number_sections": true,
   "sideBar": true,
   "skip_h1_title": false,
   "title_cell": "Table of Contents",
   "title_sidebar": "Contents",
   "toc_cell": false,
   "toc_position": {},
   "toc_section_display": true,
   "toc_window_display": false
  }
 },
 "nbformat": 4,
 "nbformat_minor": 1
}