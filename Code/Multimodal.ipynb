{
  "nbformat": 4,
  "nbformat_minor": 0,
  "metadata": {
    "colab": {
      "name": "Multimodal.ipynb",
      "provenance": [],
      "collapsed_sections": [],
      "authorship_tag": "ABX9TyMn15Q7nAKzBgkL0GORqnYu",
      "include_colab_link": true
    },
    "kernelspec": {
      "name": "python3",
      "display_name": "Python 3"
    },
    "language_info": {
      "name": "python"
    },
    "widgets": {
      "application/vnd.jupyter.widget-state+json": {
        "607a34cedcdf4320b3981fe21208b8f4": {
          "model_module": "@jupyter-widgets/controls",
          "model_name": "HBoxModel",
          "model_module_version": "1.5.0",
          "state": {
            "_dom_classes": [],
            "_model_module": "@jupyter-widgets/controls",
            "_model_module_version": "1.5.0",
            "_model_name": "HBoxModel",
            "_view_count": null,
            "_view_module": "@jupyter-widgets/controls",
            "_view_module_version": "1.5.0",
            "_view_name": "HBoxView",
            "box_style": "",
            "children": [
              "IPY_MODEL_81df3ec9e5dd4e6093ab0df7f5ebf7fd",
              "IPY_MODEL_9264c71e409141d7b4226799011064d6",
              "IPY_MODEL_c9748c238fdc44dda45937948515dd4b"
            ],
            "layout": "IPY_MODEL_dab1648fa67942b69bfb14dcc2f8d8bf"
          }
        },
        "81df3ec9e5dd4e6093ab0df7f5ebf7fd": {
          "model_module": "@jupyter-widgets/controls",
          "model_name": "HTMLModel",
          "model_module_version": "1.5.0",
          "state": {
            "_dom_classes": [],
            "_model_module": "@jupyter-widgets/controls",
            "_model_module_version": "1.5.0",
            "_model_name": "HTMLModel",
            "_view_count": null,
            "_view_module": "@jupyter-widgets/controls",
            "_view_module_version": "1.5.0",
            "_view_name": "HTMLView",
            "description": "",
            "description_tooltip": null,
            "layout": "IPY_MODEL_139dd7e06f0a4eba83e5ec60f9a99722",
            "placeholder": "​",
            "style": "IPY_MODEL_c00adbe551f24efda88c5ac105f1417a",
            "value": "Downloading: 100%"
          }
        },
        "9264c71e409141d7b4226799011064d6": {
          "model_module": "@jupyter-widgets/controls",
          "model_name": "FloatProgressModel",
          "model_module_version": "1.5.0",
          "state": {
            "_dom_classes": [],
            "_model_module": "@jupyter-widgets/controls",
            "_model_module_version": "1.5.0",
            "_model_name": "FloatProgressModel",
            "_view_count": null,
            "_view_module": "@jupyter-widgets/controls",
            "_view_module_version": "1.5.0",
            "_view_name": "ProgressView",
            "bar_style": "success",
            "description": "",
            "description_tooltip": null,
            "layout": "IPY_MODEL_9df707bda846449d85633c8011d62511",
            "max": 231508,
            "min": 0,
            "orientation": "horizontal",
            "style": "IPY_MODEL_15e0cd33595444078c9b0d28e4a9b707",
            "value": 231508
          }
        },
        "c9748c238fdc44dda45937948515dd4b": {
          "model_module": "@jupyter-widgets/controls",
          "model_name": "HTMLModel",
          "model_module_version": "1.5.0",
          "state": {
            "_dom_classes": [],
            "_model_module": "@jupyter-widgets/controls",
            "_model_module_version": "1.5.0",
            "_model_name": "HTMLModel",
            "_view_count": null,
            "_view_module": "@jupyter-widgets/controls",
            "_view_module_version": "1.5.0",
            "_view_name": "HTMLView",
            "description": "",
            "description_tooltip": null,
            "layout": "IPY_MODEL_36693a38ba0f4e179bf278f8c6814785",
            "placeholder": "​",
            "style": "IPY_MODEL_db09855c616242afbd0996dae6056a02",
            "value": " 226k/226k [00:00&lt;00:00, 352kB/s]"
          }
        },
        "dab1648fa67942b69bfb14dcc2f8d8bf": {
          "model_module": "@jupyter-widgets/base",
          "model_name": "LayoutModel",
          "model_module_version": "1.2.0",
          "state": {
            "_model_module": "@jupyter-widgets/base",
            "_model_module_version": "1.2.0",
            "_model_name": "LayoutModel",
            "_view_count": null,
            "_view_module": "@jupyter-widgets/base",
            "_view_module_version": "1.2.0",
            "_view_name": "LayoutView",
            "align_content": null,
            "align_items": null,
            "align_self": null,
            "border": null,
            "bottom": null,
            "display": null,
            "flex": null,
            "flex_flow": null,
            "grid_area": null,
            "grid_auto_columns": null,
            "grid_auto_flow": null,
            "grid_auto_rows": null,
            "grid_column": null,
            "grid_gap": null,
            "grid_row": null,
            "grid_template_areas": null,
            "grid_template_columns": null,
            "grid_template_rows": null,
            "height": null,
            "justify_content": null,
            "justify_items": null,
            "left": null,
            "margin": null,
            "max_height": null,
            "max_width": null,
            "min_height": null,
            "min_width": null,
            "object_fit": null,
            "object_position": null,
            "order": null,
            "overflow": null,
            "overflow_x": null,
            "overflow_y": null,
            "padding": null,
            "right": null,
            "top": null,
            "visibility": null,
            "width": null
          }
        },
        "139dd7e06f0a4eba83e5ec60f9a99722": {
          "model_module": "@jupyter-widgets/base",
          "model_name": "LayoutModel",
          "model_module_version": "1.2.0",
          "state": {
            "_model_module": "@jupyter-widgets/base",
            "_model_module_version": "1.2.0",
            "_model_name": "LayoutModel",
            "_view_count": null,
            "_view_module": "@jupyter-widgets/base",
            "_view_module_version": "1.2.0",
            "_view_name": "LayoutView",
            "align_content": null,
            "align_items": null,
            "align_self": null,
            "border": null,
            "bottom": null,
            "display": null,
            "flex": null,
            "flex_flow": null,
            "grid_area": null,
            "grid_auto_columns": null,
            "grid_auto_flow": null,
            "grid_auto_rows": null,
            "grid_column": null,
            "grid_gap": null,
            "grid_row": null,
            "grid_template_areas": null,
            "grid_template_columns": null,
            "grid_template_rows": null,
            "height": null,
            "justify_content": null,
            "justify_items": null,
            "left": null,
            "margin": null,
            "max_height": null,
            "max_width": null,
            "min_height": null,
            "min_width": null,
            "object_fit": null,
            "object_position": null,
            "order": null,
            "overflow": null,
            "overflow_x": null,
            "overflow_y": null,
            "padding": null,
            "right": null,
            "top": null,
            "visibility": null,
            "width": null
          }
        },
        "c00adbe551f24efda88c5ac105f1417a": {
          "model_module": "@jupyter-widgets/controls",
          "model_name": "DescriptionStyleModel",
          "model_module_version": "1.5.0",
          "state": {
            "_model_module": "@jupyter-widgets/controls",
            "_model_module_version": "1.5.0",
            "_model_name": "DescriptionStyleModel",
            "_view_count": null,
            "_view_module": "@jupyter-widgets/base",
            "_view_module_version": "1.2.0",
            "_view_name": "StyleView",
            "description_width": ""
          }
        },
        "9df707bda846449d85633c8011d62511": {
          "model_module": "@jupyter-widgets/base",
          "model_name": "LayoutModel",
          "model_module_version": "1.2.0",
          "state": {
            "_model_module": "@jupyter-widgets/base",
            "_model_module_version": "1.2.0",
            "_model_name": "LayoutModel",
            "_view_count": null,
            "_view_module": "@jupyter-widgets/base",
            "_view_module_version": "1.2.0",
            "_view_name": "LayoutView",
            "align_content": null,
            "align_items": null,
            "align_self": null,
            "border": null,
            "bottom": null,
            "display": null,
            "flex": null,
            "flex_flow": null,
            "grid_area": null,
            "grid_auto_columns": null,
            "grid_auto_flow": null,
            "grid_auto_rows": null,
            "grid_column": null,
            "grid_gap": null,
            "grid_row": null,
            "grid_template_areas": null,
            "grid_template_columns": null,
            "grid_template_rows": null,
            "height": null,
            "justify_content": null,
            "justify_items": null,
            "left": null,
            "margin": null,
            "max_height": null,
            "max_width": null,
            "min_height": null,
            "min_width": null,
            "object_fit": null,
            "object_position": null,
            "order": null,
            "overflow": null,
            "overflow_x": null,
            "overflow_y": null,
            "padding": null,
            "right": null,
            "top": null,
            "visibility": null,
            "width": null
          }
        },
        "15e0cd33595444078c9b0d28e4a9b707": {
          "model_module": "@jupyter-widgets/controls",
          "model_name": "ProgressStyleModel",
          "model_module_version": "1.5.0",
          "state": {
            "_model_module": "@jupyter-widgets/controls",
            "_model_module_version": "1.5.0",
            "_model_name": "ProgressStyleModel",
            "_view_count": null,
            "_view_module": "@jupyter-widgets/base",
            "_view_module_version": "1.2.0",
            "_view_name": "StyleView",
            "bar_color": null,
            "description_width": ""
          }
        },
        "36693a38ba0f4e179bf278f8c6814785": {
          "model_module": "@jupyter-widgets/base",
          "model_name": "LayoutModel",
          "model_module_version": "1.2.0",
          "state": {
            "_model_module": "@jupyter-widgets/base",
            "_model_module_version": "1.2.0",
            "_model_name": "LayoutModel",
            "_view_count": null,
            "_view_module": "@jupyter-widgets/base",
            "_view_module_version": "1.2.0",
            "_view_name": "LayoutView",
            "align_content": null,
            "align_items": null,
            "align_self": null,
            "border": null,
            "bottom": null,
            "display": null,
            "flex": null,
            "flex_flow": null,
            "grid_area": null,
            "grid_auto_columns": null,
            "grid_auto_flow": null,
            "grid_auto_rows": null,
            "grid_column": null,
            "grid_gap": null,
            "grid_row": null,
            "grid_template_areas": null,
            "grid_template_columns": null,
            "grid_template_rows": null,
            "height": null,
            "justify_content": null,
            "justify_items": null,
            "left": null,
            "margin": null,
            "max_height": null,
            "max_width": null,
            "min_height": null,
            "min_width": null,
            "object_fit": null,
            "object_position": null,
            "order": null,
            "overflow": null,
            "overflow_x": null,
            "overflow_y": null,
            "padding": null,
            "right": null,
            "top": null,
            "visibility": null,
            "width": null
          }
        },
        "db09855c616242afbd0996dae6056a02": {
          "model_module": "@jupyter-widgets/controls",
          "model_name": "DescriptionStyleModel",
          "model_module_version": "1.5.0",
          "state": {
            "_model_module": "@jupyter-widgets/controls",
            "_model_module_version": "1.5.0",
            "_model_name": "DescriptionStyleModel",
            "_view_count": null,
            "_view_module": "@jupyter-widgets/base",
            "_view_module_version": "1.2.0",
            "_view_name": "StyleView",
            "description_width": ""
          }
        },
        "e1f80f00be9f4e40ba418669ecd5694c": {
          "model_module": "@jupyter-widgets/controls",
          "model_name": "HBoxModel",
          "model_module_version": "1.5.0",
          "state": {
            "_dom_classes": [],
            "_model_module": "@jupyter-widgets/controls",
            "_model_module_version": "1.5.0",
            "_model_name": "HBoxModel",
            "_view_count": null,
            "_view_module": "@jupyter-widgets/controls",
            "_view_module_version": "1.5.0",
            "_view_name": "HBoxView",
            "box_style": "",
            "children": [
              "IPY_MODEL_77476e96c54b44eeb125e1bf8076c556",
              "IPY_MODEL_1fc0f40a46fb443190a324c90b81abfe",
              "IPY_MODEL_b9efd72a1b264e228553f31542dd04a6"
            ],
            "layout": "IPY_MODEL_ca34e7619b624a8eb1dfac518159c441"
          }
        },
        "77476e96c54b44eeb125e1bf8076c556": {
          "model_module": "@jupyter-widgets/controls",
          "model_name": "HTMLModel",
          "model_module_version": "1.5.0",
          "state": {
            "_dom_classes": [],
            "_model_module": "@jupyter-widgets/controls",
            "_model_module_version": "1.5.0",
            "_model_name": "HTMLModel",
            "_view_count": null,
            "_view_module": "@jupyter-widgets/controls",
            "_view_module_version": "1.5.0",
            "_view_name": "HTMLView",
            "description": "",
            "description_tooltip": null,
            "layout": "IPY_MODEL_686cab1447834e2a908c1d38f4bae6a5",
            "placeholder": "​",
            "style": "IPY_MODEL_1ca806c0e9954f87a9949380b712c0b8",
            "value": "Downloading: 100%"
          }
        },
        "1fc0f40a46fb443190a324c90b81abfe": {
          "model_module": "@jupyter-widgets/controls",
          "model_name": "FloatProgressModel",
          "model_module_version": "1.5.0",
          "state": {
            "_dom_classes": [],
            "_model_module": "@jupyter-widgets/controls",
            "_model_module_version": "1.5.0",
            "_model_name": "FloatProgressModel",
            "_view_count": null,
            "_view_module": "@jupyter-widgets/controls",
            "_view_module_version": "1.5.0",
            "_view_name": "ProgressView",
            "bar_style": "success",
            "description": "",
            "description_tooltip": null,
            "layout": "IPY_MODEL_de9388149513421688d45eebc2181f76",
            "max": 28,
            "min": 0,
            "orientation": "horizontal",
            "style": "IPY_MODEL_ba0103bb839b4e4ebf76b42c9b86eb9d",
            "value": 28
          }
        },
        "b9efd72a1b264e228553f31542dd04a6": {
          "model_module": "@jupyter-widgets/controls",
          "model_name": "HTMLModel",
          "model_module_version": "1.5.0",
          "state": {
            "_dom_classes": [],
            "_model_module": "@jupyter-widgets/controls",
            "_model_module_version": "1.5.0",
            "_model_name": "HTMLModel",
            "_view_count": null,
            "_view_module": "@jupyter-widgets/controls",
            "_view_module_version": "1.5.0",
            "_view_name": "HTMLView",
            "description": "",
            "description_tooltip": null,
            "layout": "IPY_MODEL_f7c3169b6d024c18b796d2660730afe7",
            "placeholder": "​",
            "style": "IPY_MODEL_32823399f12044d3b65b8e058f3e000e",
            "value": " 28.0/28.0 [00:00&lt;00:00, 505B/s]"
          }
        },
        "ca34e7619b624a8eb1dfac518159c441": {
          "model_module": "@jupyter-widgets/base",
          "model_name": "LayoutModel",
          "model_module_version": "1.2.0",
          "state": {
            "_model_module": "@jupyter-widgets/base",
            "_model_module_version": "1.2.0",
            "_model_name": "LayoutModel",
            "_view_count": null,
            "_view_module": "@jupyter-widgets/base",
            "_view_module_version": "1.2.0",
            "_view_name": "LayoutView",
            "align_content": null,
            "align_items": null,
            "align_self": null,
            "border": null,
            "bottom": null,
            "display": null,
            "flex": null,
            "flex_flow": null,
            "grid_area": null,
            "grid_auto_columns": null,
            "grid_auto_flow": null,
            "grid_auto_rows": null,
            "grid_column": null,
            "grid_gap": null,
            "grid_row": null,
            "grid_template_areas": null,
            "grid_template_columns": null,
            "grid_template_rows": null,
            "height": null,
            "justify_content": null,
            "justify_items": null,
            "left": null,
            "margin": null,
            "max_height": null,
            "max_width": null,
            "min_height": null,
            "min_width": null,
            "object_fit": null,
            "object_position": null,
            "order": null,
            "overflow": null,
            "overflow_x": null,
            "overflow_y": null,
            "padding": null,
            "right": null,
            "top": null,
            "visibility": null,
            "width": null
          }
        },
        "686cab1447834e2a908c1d38f4bae6a5": {
          "model_module": "@jupyter-widgets/base",
          "model_name": "LayoutModel",
          "model_module_version": "1.2.0",
          "state": {
            "_model_module": "@jupyter-widgets/base",
            "_model_module_version": "1.2.0",
            "_model_name": "LayoutModel",
            "_view_count": null,
            "_view_module": "@jupyter-widgets/base",
            "_view_module_version": "1.2.0",
            "_view_name": "LayoutView",
            "align_content": null,
            "align_items": null,
            "align_self": null,
            "border": null,
            "bottom": null,
            "display": null,
            "flex": null,
            "flex_flow": null,
            "grid_area": null,
            "grid_auto_columns": null,
            "grid_auto_flow": null,
            "grid_auto_rows": null,
            "grid_column": null,
            "grid_gap": null,
            "grid_row": null,
            "grid_template_areas": null,
            "grid_template_columns": null,
            "grid_template_rows": null,
            "height": null,
            "justify_content": null,
            "justify_items": null,
            "left": null,
            "margin": null,
            "max_height": null,
            "max_width": null,
            "min_height": null,
            "min_width": null,
            "object_fit": null,
            "object_position": null,
            "order": null,
            "overflow": null,
            "overflow_x": null,
            "overflow_y": null,
            "padding": null,
            "right": null,
            "top": null,
            "visibility": null,
            "width": null
          }
        },
        "1ca806c0e9954f87a9949380b712c0b8": {
          "model_module": "@jupyter-widgets/controls",
          "model_name": "DescriptionStyleModel",
          "model_module_version": "1.5.0",
          "state": {
            "_model_module": "@jupyter-widgets/controls",
            "_model_module_version": "1.5.0",
            "_model_name": "DescriptionStyleModel",
            "_view_count": null,
            "_view_module": "@jupyter-widgets/base",
            "_view_module_version": "1.2.0",
            "_view_name": "StyleView",
            "description_width": ""
          }
        },
        "de9388149513421688d45eebc2181f76": {
          "model_module": "@jupyter-widgets/base",
          "model_name": "LayoutModel",
          "model_module_version": "1.2.0",
          "state": {
            "_model_module": "@jupyter-widgets/base",
            "_model_module_version": "1.2.0",
            "_model_name": "LayoutModel",
            "_view_count": null,
            "_view_module": "@jupyter-widgets/base",
            "_view_module_version": "1.2.0",
            "_view_name": "LayoutView",
            "align_content": null,
            "align_items": null,
            "align_self": null,
            "border": null,
            "bottom": null,
            "display": null,
            "flex": null,
            "flex_flow": null,
            "grid_area": null,
            "grid_auto_columns": null,
            "grid_auto_flow": null,
            "grid_auto_rows": null,
            "grid_column": null,
            "grid_gap": null,
            "grid_row": null,
            "grid_template_areas": null,
            "grid_template_columns": null,
            "grid_template_rows": null,
            "height": null,
            "justify_content": null,
            "justify_items": null,
            "left": null,
            "margin": null,
            "max_height": null,
            "max_width": null,
            "min_height": null,
            "min_width": null,
            "object_fit": null,
            "object_position": null,
            "order": null,
            "overflow": null,
            "overflow_x": null,
            "overflow_y": null,
            "padding": null,
            "right": null,
            "top": null,
            "visibility": null,
            "width": null
          }
        },
        "ba0103bb839b4e4ebf76b42c9b86eb9d": {
          "model_module": "@jupyter-widgets/controls",
          "model_name": "ProgressStyleModel",
          "model_module_version": "1.5.0",
          "state": {
            "_model_module": "@jupyter-widgets/controls",
            "_model_module_version": "1.5.0",
            "_model_name": "ProgressStyleModel",
            "_view_count": null,
            "_view_module": "@jupyter-widgets/base",
            "_view_module_version": "1.2.0",
            "_view_name": "StyleView",
            "bar_color": null,
            "description_width": ""
          }
        },
        "f7c3169b6d024c18b796d2660730afe7": {
          "model_module": "@jupyter-widgets/base",
          "model_name": "LayoutModel",
          "model_module_version": "1.2.0",
          "state": {
            "_model_module": "@jupyter-widgets/base",
            "_model_module_version": "1.2.0",
            "_model_name": "LayoutModel",
            "_view_count": null,
            "_view_module": "@jupyter-widgets/base",
            "_view_module_version": "1.2.0",
            "_view_name": "LayoutView",
            "align_content": null,
            "align_items": null,
            "align_self": null,
            "border": null,
            "bottom": null,
            "display": null,
            "flex": null,
            "flex_flow": null,
            "grid_area": null,
            "grid_auto_columns": null,
            "grid_auto_flow": null,
            "grid_auto_rows": null,
            "grid_column": null,
            "grid_gap": null,
            "grid_row": null,
            "grid_template_areas": null,
            "grid_template_columns": null,
            "grid_template_rows": null,
            "height": null,
            "justify_content": null,
            "justify_items": null,
            "left": null,
            "margin": null,
            "max_height": null,
            "max_width": null,
            "min_height": null,
            "min_width": null,
            "object_fit": null,
            "object_position": null,
            "order": null,
            "overflow": null,
            "overflow_x": null,
            "overflow_y": null,
            "padding": null,
            "right": null,
            "top": null,
            "visibility": null,
            "width": null
          }
        },
        "32823399f12044d3b65b8e058f3e000e": {
          "model_module": "@jupyter-widgets/controls",
          "model_name": "DescriptionStyleModel",
          "model_module_version": "1.5.0",
          "state": {
            "_model_module": "@jupyter-widgets/controls",
            "_model_module_version": "1.5.0",
            "_model_name": "DescriptionStyleModel",
            "_view_count": null,
            "_view_module": "@jupyter-widgets/base",
            "_view_module_version": "1.2.0",
            "_view_name": "StyleView",
            "description_width": ""
          }
        },
        "f703e7ac020c405d86b1afa727c1f36a": {
          "model_module": "@jupyter-widgets/controls",
          "model_name": "HBoxModel",
          "model_module_version": "1.5.0",
          "state": {
            "_dom_classes": [],
            "_model_module": "@jupyter-widgets/controls",
            "_model_module_version": "1.5.0",
            "_model_name": "HBoxModel",
            "_view_count": null,
            "_view_module": "@jupyter-widgets/controls",
            "_view_module_version": "1.5.0",
            "_view_name": "HBoxView",
            "box_style": "",
            "children": [
              "IPY_MODEL_1e951c5975484115b656a9f296575a05",
              "IPY_MODEL_1ae785aab09d4c50ac2cc61df5e52d7f",
              "IPY_MODEL_520988fd695d40548907da9113ed818c"
            ],
            "layout": "IPY_MODEL_5385b407449e49c6aa11fce661702f11"
          }
        },
        "1e951c5975484115b656a9f296575a05": {
          "model_module": "@jupyter-widgets/controls",
          "model_name": "HTMLModel",
          "model_module_version": "1.5.0",
          "state": {
            "_dom_classes": [],
            "_model_module": "@jupyter-widgets/controls",
            "_model_module_version": "1.5.0",
            "_model_name": "HTMLModel",
            "_view_count": null,
            "_view_module": "@jupyter-widgets/controls",
            "_view_module_version": "1.5.0",
            "_view_name": "HTMLView",
            "description": "",
            "description_tooltip": null,
            "layout": "IPY_MODEL_e444bae578b4415ea07db10d960423f9",
            "placeholder": "​",
            "style": "IPY_MODEL_a1a6001ff19e4e22a1fa9dbc838a9de8",
            "value": "Downloading: 100%"
          }
        },
        "1ae785aab09d4c50ac2cc61df5e52d7f": {
          "model_module": "@jupyter-widgets/controls",
          "model_name": "FloatProgressModel",
          "model_module_version": "1.5.0",
          "state": {
            "_dom_classes": [],
            "_model_module": "@jupyter-widgets/controls",
            "_model_module_version": "1.5.0",
            "_model_name": "FloatProgressModel",
            "_view_count": null,
            "_view_module": "@jupyter-widgets/controls",
            "_view_module_version": "1.5.0",
            "_view_name": "ProgressView",
            "bar_style": "success",
            "description": "",
            "description_tooltip": null,
            "layout": "IPY_MODEL_181ef1fbbae048d9a44e7b5e0d3be6f5",
            "max": 571,
            "min": 0,
            "orientation": "horizontal",
            "style": "IPY_MODEL_62c82bfecd6f4f5785cf9db706a57f23",
            "value": 571
          }
        },
        "520988fd695d40548907da9113ed818c": {
          "model_module": "@jupyter-widgets/controls",
          "model_name": "HTMLModel",
          "model_module_version": "1.5.0",
          "state": {
            "_dom_classes": [],
            "_model_module": "@jupyter-widgets/controls",
            "_model_module_version": "1.5.0",
            "_model_name": "HTMLModel",
            "_view_count": null,
            "_view_module": "@jupyter-widgets/controls",
            "_view_module_version": "1.5.0",
            "_view_name": "HTMLView",
            "description": "",
            "description_tooltip": null,
            "layout": "IPY_MODEL_27556a613a7449c29b4ba74a4b377a33",
            "placeholder": "​",
            "style": "IPY_MODEL_e37b7b21344e4613922dbd12792427fb",
            "value": " 571/571 [00:00&lt;00:00, 8.88kB/s]"
          }
        },
        "5385b407449e49c6aa11fce661702f11": {
          "model_module": "@jupyter-widgets/base",
          "model_name": "LayoutModel",
          "model_module_version": "1.2.0",
          "state": {
            "_model_module": "@jupyter-widgets/base",
            "_model_module_version": "1.2.0",
            "_model_name": "LayoutModel",
            "_view_count": null,
            "_view_module": "@jupyter-widgets/base",
            "_view_module_version": "1.2.0",
            "_view_name": "LayoutView",
            "align_content": null,
            "align_items": null,
            "align_self": null,
            "border": null,
            "bottom": null,
            "display": null,
            "flex": null,
            "flex_flow": null,
            "grid_area": null,
            "grid_auto_columns": null,
            "grid_auto_flow": null,
            "grid_auto_rows": null,
            "grid_column": null,
            "grid_gap": null,
            "grid_row": null,
            "grid_template_areas": null,
            "grid_template_columns": null,
            "grid_template_rows": null,
            "height": null,
            "justify_content": null,
            "justify_items": null,
            "left": null,
            "margin": null,
            "max_height": null,
            "max_width": null,
            "min_height": null,
            "min_width": null,
            "object_fit": null,
            "object_position": null,
            "order": null,
            "overflow": null,
            "overflow_x": null,
            "overflow_y": null,
            "padding": null,
            "right": null,
            "top": null,
            "visibility": null,
            "width": null
          }
        },
        "e444bae578b4415ea07db10d960423f9": {
          "model_module": "@jupyter-widgets/base",
          "model_name": "LayoutModel",
          "model_module_version": "1.2.0",
          "state": {
            "_model_module": "@jupyter-widgets/base",
            "_model_module_version": "1.2.0",
            "_model_name": "LayoutModel",
            "_view_count": null,
            "_view_module": "@jupyter-widgets/base",
            "_view_module_version": "1.2.0",
            "_view_name": "LayoutView",
            "align_content": null,
            "align_items": null,
            "align_self": null,
            "border": null,
            "bottom": null,
            "display": null,
            "flex": null,
            "flex_flow": null,
            "grid_area": null,
            "grid_auto_columns": null,
            "grid_auto_flow": null,
            "grid_auto_rows": null,
            "grid_column": null,
            "grid_gap": null,
            "grid_row": null,
            "grid_template_areas": null,
            "grid_template_columns": null,
            "grid_template_rows": null,
            "height": null,
            "justify_content": null,
            "justify_items": null,
            "left": null,
            "margin": null,
            "max_height": null,
            "max_width": null,
            "min_height": null,
            "min_width": null,
            "object_fit": null,
            "object_position": null,
            "order": null,
            "overflow": null,
            "overflow_x": null,
            "overflow_y": null,
            "padding": null,
            "right": null,
            "top": null,
            "visibility": null,
            "width": null
          }
        },
        "a1a6001ff19e4e22a1fa9dbc838a9de8": {
          "model_module": "@jupyter-widgets/controls",
          "model_name": "DescriptionStyleModel",
          "model_module_version": "1.5.0",
          "state": {
            "_model_module": "@jupyter-widgets/controls",
            "_model_module_version": "1.5.0",
            "_model_name": "DescriptionStyleModel",
            "_view_count": null,
            "_view_module": "@jupyter-widgets/base",
            "_view_module_version": "1.2.0",
            "_view_name": "StyleView",
            "description_width": ""
          }
        },
        "181ef1fbbae048d9a44e7b5e0d3be6f5": {
          "model_module": "@jupyter-widgets/base",
          "model_name": "LayoutModel",
          "model_module_version": "1.2.0",
          "state": {
            "_model_module": "@jupyter-widgets/base",
            "_model_module_version": "1.2.0",
            "_model_name": "LayoutModel",
            "_view_count": null,
            "_view_module": "@jupyter-widgets/base",
            "_view_module_version": "1.2.0",
            "_view_name": "LayoutView",
            "align_content": null,
            "align_items": null,
            "align_self": null,
            "border": null,
            "bottom": null,
            "display": null,
            "flex": null,
            "flex_flow": null,
            "grid_area": null,
            "grid_auto_columns": null,
            "grid_auto_flow": null,
            "grid_auto_rows": null,
            "grid_column": null,
            "grid_gap": null,
            "grid_row": null,
            "grid_template_areas": null,
            "grid_template_columns": null,
            "grid_template_rows": null,
            "height": null,
            "justify_content": null,
            "justify_items": null,
            "left": null,
            "margin": null,
            "max_height": null,
            "max_width": null,
            "min_height": null,
            "min_width": null,
            "object_fit": null,
            "object_position": null,
            "order": null,
            "overflow": null,
            "overflow_x": null,
            "overflow_y": null,
            "padding": null,
            "right": null,
            "top": null,
            "visibility": null,
            "width": null
          }
        },
        "62c82bfecd6f4f5785cf9db706a57f23": {
          "model_module": "@jupyter-widgets/controls",
          "model_name": "ProgressStyleModel",
          "model_module_version": "1.5.0",
          "state": {
            "_model_module": "@jupyter-widgets/controls",
            "_model_module_version": "1.5.0",
            "_model_name": "ProgressStyleModel",
            "_view_count": null,
            "_view_module": "@jupyter-widgets/base",
            "_view_module_version": "1.2.0",
            "_view_name": "StyleView",
            "bar_color": null,
            "description_width": ""
          }
        },
        "27556a613a7449c29b4ba74a4b377a33": {
          "model_module": "@jupyter-widgets/base",
          "model_name": "LayoutModel",
          "model_module_version": "1.2.0",
          "state": {
            "_model_module": "@jupyter-widgets/base",
            "_model_module_version": "1.2.0",
            "_model_name": "LayoutModel",
            "_view_count": null,
            "_view_module": "@jupyter-widgets/base",
            "_view_module_version": "1.2.0",
            "_view_name": "LayoutView",
            "align_content": null,
            "align_items": null,
            "align_self": null,
            "border": null,
            "bottom": null,
            "display": null,
            "flex": null,
            "flex_flow": null,
            "grid_area": null,
            "grid_auto_columns": null,
            "grid_auto_flow": null,
            "grid_auto_rows": null,
            "grid_column": null,
            "grid_gap": null,
            "grid_row": null,
            "grid_template_areas": null,
            "grid_template_columns": null,
            "grid_template_rows": null,
            "height": null,
            "justify_content": null,
            "justify_items": null,
            "left": null,
            "margin": null,
            "max_height": null,
            "max_width": null,
            "min_height": null,
            "min_width": null,
            "object_fit": null,
            "object_position": null,
            "order": null,
            "overflow": null,
            "overflow_x": null,
            "overflow_y": null,
            "padding": null,
            "right": null,
            "top": null,
            "visibility": null,
            "width": null
          }
        },
        "e37b7b21344e4613922dbd12792427fb": {
          "model_module": "@jupyter-widgets/controls",
          "model_name": "DescriptionStyleModel",
          "model_module_version": "1.5.0",
          "state": {
            "_model_module": "@jupyter-widgets/controls",
            "_model_module_version": "1.5.0",
            "_model_name": "DescriptionStyleModel",
            "_view_count": null,
            "_view_module": "@jupyter-widgets/base",
            "_view_module_version": "1.2.0",
            "_view_name": "StyleView",
            "description_width": ""
          }
        },
        "4c996448fef346188b3dd9b5f172658a": {
          "model_module": "@jupyter-widgets/controls",
          "model_name": "HBoxModel",
          "model_module_version": "1.5.0",
          "state": {
            "_dom_classes": [],
            "_model_module": "@jupyter-widgets/controls",
            "_model_module_version": "1.5.0",
            "_model_name": "HBoxModel",
            "_view_count": null,
            "_view_module": "@jupyter-widgets/controls",
            "_view_module_version": "1.5.0",
            "_view_name": "HBoxView",
            "box_style": "",
            "children": [
              "IPY_MODEL_46555646ec434bf6ba8193a35ee34f73",
              "IPY_MODEL_28312d14d588480f9ac41c757f10822b",
              "IPY_MODEL_40d4063a3f9d414d99ecae7e196236db"
            ],
            "layout": "IPY_MODEL_9e223f2dd86442289edbcd06bb7c087c"
          }
        },
        "46555646ec434bf6ba8193a35ee34f73": {
          "model_module": "@jupyter-widgets/controls",
          "model_name": "HTMLModel",
          "model_module_version": "1.5.0",
          "state": {
            "_dom_classes": [],
            "_model_module": "@jupyter-widgets/controls",
            "_model_module_version": "1.5.0",
            "_model_name": "HTMLModel",
            "_view_count": null,
            "_view_module": "@jupyter-widgets/controls",
            "_view_module_version": "1.5.0",
            "_view_name": "HTMLView",
            "description": "",
            "description_tooltip": null,
            "layout": "IPY_MODEL_55eeaff1fbab48e7aef77e3baa049e15",
            "placeholder": "​",
            "style": "IPY_MODEL_1f251db3b85c4f03b475df2fb4155bd1",
            "value": "Downloading: 100%"
          }
        },
        "28312d14d588480f9ac41c757f10822b": {
          "model_module": "@jupyter-widgets/controls",
          "model_name": "FloatProgressModel",
          "model_module_version": "1.5.0",
          "state": {
            "_dom_classes": [],
            "_model_module": "@jupyter-widgets/controls",
            "_model_module_version": "1.5.0",
            "_model_name": "FloatProgressModel",
            "_view_count": null,
            "_view_module": "@jupyter-widgets/controls",
            "_view_module_version": "1.5.0",
            "_view_name": "ProgressView",
            "bar_style": "success",
            "description": "",
            "description_tooltip": null,
            "layout": "IPY_MODEL_5a1e83334ceb4558a3a64cf047e64773",
            "max": 1472569832,
            "min": 0,
            "orientation": "horizontal",
            "style": "IPY_MODEL_96c4a9e044874921a8ebc18cd403882c",
            "value": 1472569832
          }
        },
        "40d4063a3f9d414d99ecae7e196236db": {
          "model_module": "@jupyter-widgets/controls",
          "model_name": "HTMLModel",
          "model_module_version": "1.5.0",
          "state": {
            "_dom_classes": [],
            "_model_module": "@jupyter-widgets/controls",
            "_model_module_version": "1.5.0",
            "_model_name": "HTMLModel",
            "_view_count": null,
            "_view_module": "@jupyter-widgets/controls",
            "_view_module_version": "1.5.0",
            "_view_name": "HTMLView",
            "description": "",
            "description_tooltip": null,
            "layout": "IPY_MODEL_38eb4b8e221840c29fac10e5b9c3bec8",
            "placeholder": "​",
            "style": "IPY_MODEL_d64eba36d4404f4e9bd7a60a04c90b6c",
            "value": " 1.37G/1.37G [00:50&lt;00:00, 20.9MB/s]"
          }
        },
        "9e223f2dd86442289edbcd06bb7c087c": {
          "model_module": "@jupyter-widgets/base",
          "model_name": "LayoutModel",
          "model_module_version": "1.2.0",
          "state": {
            "_model_module": "@jupyter-widgets/base",
            "_model_module_version": "1.2.0",
            "_model_name": "LayoutModel",
            "_view_count": null,
            "_view_module": "@jupyter-widgets/base",
            "_view_module_version": "1.2.0",
            "_view_name": "LayoutView",
            "align_content": null,
            "align_items": null,
            "align_self": null,
            "border": null,
            "bottom": null,
            "display": null,
            "flex": null,
            "flex_flow": null,
            "grid_area": null,
            "grid_auto_columns": null,
            "grid_auto_flow": null,
            "grid_auto_rows": null,
            "grid_column": null,
            "grid_gap": null,
            "grid_row": null,
            "grid_template_areas": null,
            "grid_template_columns": null,
            "grid_template_rows": null,
            "height": null,
            "justify_content": null,
            "justify_items": null,
            "left": null,
            "margin": null,
            "max_height": null,
            "max_width": null,
            "min_height": null,
            "min_width": null,
            "object_fit": null,
            "object_position": null,
            "order": null,
            "overflow": null,
            "overflow_x": null,
            "overflow_y": null,
            "padding": null,
            "right": null,
            "top": null,
            "visibility": null,
            "width": null
          }
        },
        "55eeaff1fbab48e7aef77e3baa049e15": {
          "model_module": "@jupyter-widgets/base",
          "model_name": "LayoutModel",
          "model_module_version": "1.2.0",
          "state": {
            "_model_module": "@jupyter-widgets/base",
            "_model_module_version": "1.2.0",
            "_model_name": "LayoutModel",
            "_view_count": null,
            "_view_module": "@jupyter-widgets/base",
            "_view_module_version": "1.2.0",
            "_view_name": "LayoutView",
            "align_content": null,
            "align_items": null,
            "align_self": null,
            "border": null,
            "bottom": null,
            "display": null,
            "flex": null,
            "flex_flow": null,
            "grid_area": null,
            "grid_auto_columns": null,
            "grid_auto_flow": null,
            "grid_auto_rows": null,
            "grid_column": null,
            "grid_gap": null,
            "grid_row": null,
            "grid_template_areas": null,
            "grid_template_columns": null,
            "grid_template_rows": null,
            "height": null,
            "justify_content": null,
            "justify_items": null,
            "left": null,
            "margin": null,
            "max_height": null,
            "max_width": null,
            "min_height": null,
            "min_width": null,
            "object_fit": null,
            "object_position": null,
            "order": null,
            "overflow": null,
            "overflow_x": null,
            "overflow_y": null,
            "padding": null,
            "right": null,
            "top": null,
            "visibility": null,
            "width": null
          }
        },
        "1f251db3b85c4f03b475df2fb4155bd1": {
          "model_module": "@jupyter-widgets/controls",
          "model_name": "DescriptionStyleModel",
          "model_module_version": "1.5.0",
          "state": {
            "_model_module": "@jupyter-widgets/controls",
            "_model_module_version": "1.5.0",
            "_model_name": "DescriptionStyleModel",
            "_view_count": null,
            "_view_module": "@jupyter-widgets/base",
            "_view_module_version": "1.2.0",
            "_view_name": "StyleView",
            "description_width": ""
          }
        },
        "5a1e83334ceb4558a3a64cf047e64773": {
          "model_module": "@jupyter-widgets/base",
          "model_name": "LayoutModel",
          "model_module_version": "1.2.0",
          "state": {
            "_model_module": "@jupyter-widgets/base",
            "_model_module_version": "1.2.0",
            "_model_name": "LayoutModel",
            "_view_count": null,
            "_view_module": "@jupyter-widgets/base",
            "_view_module_version": "1.2.0",
            "_view_name": "LayoutView",
            "align_content": null,
            "align_items": null,
            "align_self": null,
            "border": null,
            "bottom": null,
            "display": null,
            "flex": null,
            "flex_flow": null,
            "grid_area": null,
            "grid_auto_columns": null,
            "grid_auto_flow": null,
            "grid_auto_rows": null,
            "grid_column": null,
            "grid_gap": null,
            "grid_row": null,
            "grid_template_areas": null,
            "grid_template_columns": null,
            "grid_template_rows": null,
            "height": null,
            "justify_content": null,
            "justify_items": null,
            "left": null,
            "margin": null,
            "max_height": null,
            "max_width": null,
            "min_height": null,
            "min_width": null,
            "object_fit": null,
            "object_position": null,
            "order": null,
            "overflow": null,
            "overflow_x": null,
            "overflow_y": null,
            "padding": null,
            "right": null,
            "top": null,
            "visibility": null,
            "width": null
          }
        },
        "96c4a9e044874921a8ebc18cd403882c": {
          "model_module": "@jupyter-widgets/controls",
          "model_name": "ProgressStyleModel",
          "model_module_version": "1.5.0",
          "state": {
            "_model_module": "@jupyter-widgets/controls",
            "_model_module_version": "1.5.0",
            "_model_name": "ProgressStyleModel",
            "_view_count": null,
            "_view_module": "@jupyter-widgets/base",
            "_view_module_version": "1.2.0",
            "_view_name": "StyleView",
            "bar_color": null,
            "description_width": ""
          }
        },
        "38eb4b8e221840c29fac10e5b9c3bec8": {
          "model_module": "@jupyter-widgets/base",
          "model_name": "LayoutModel",
          "model_module_version": "1.2.0",
          "state": {
            "_model_module": "@jupyter-widgets/base",
            "_model_module_version": "1.2.0",
            "_model_name": "LayoutModel",
            "_view_count": null,
            "_view_module": "@jupyter-widgets/base",
            "_view_module_version": "1.2.0",
            "_view_name": "LayoutView",
            "align_content": null,
            "align_items": null,
            "align_self": null,
            "border": null,
            "bottom": null,
            "display": null,
            "flex": null,
            "flex_flow": null,
            "grid_area": null,
            "grid_auto_columns": null,
            "grid_auto_flow": null,
            "grid_auto_rows": null,
            "grid_column": null,
            "grid_gap": null,
            "grid_row": null,
            "grid_template_areas": null,
            "grid_template_columns": null,
            "grid_template_rows": null,
            "height": null,
            "justify_content": null,
            "justify_items": null,
            "left": null,
            "margin": null,
            "max_height": null,
            "max_width": null,
            "min_height": null,
            "min_width": null,
            "object_fit": null,
            "object_position": null,
            "order": null,
            "overflow": null,
            "overflow_x": null,
            "overflow_y": null,
            "padding": null,
            "right": null,
            "top": null,
            "visibility": null,
            "width": null
          }
        },
        "d64eba36d4404f4e9bd7a60a04c90b6c": {
          "model_module": "@jupyter-widgets/controls",
          "model_name": "DescriptionStyleModel",
          "model_module_version": "1.5.0",
          "state": {
            "_model_module": "@jupyter-widgets/controls",
            "_model_module_version": "1.5.0",
            "_model_name": "DescriptionStyleModel",
            "_view_count": null,
            "_view_module": "@jupyter-widgets/base",
            "_view_module_version": "1.2.0",
            "_view_name": "StyleView",
            "description_width": ""
          }
        }
      }
    }
  },
  "cells": [
    {
      "cell_type": "markdown",
      "metadata": {
        "id": "view-in-github",
        "colab_type": "text"
      },
      "source": [
        "<a href=\"https://colab.research.google.com/github/zhuhfcod/capstone/blob/main/Multimodal.ipynb\" target=\"_parent\"><img src=\"https://colab.research.google.com/assets/colab-badge.svg\" alt=\"Open In Colab\"/></a>"
      ]
    },
    {
      "cell_type": "markdown",
      "source": [
        "# Multimodal Neural Network using image and text feature"
      ],
      "metadata": {
        "id": "9F2ZNuxvq2K1"
      }
    },
    {
      "cell_type": "markdown",
      "source": [
        "In this part, we would like to use BERT, CNN and transformer to solve the multimodal news classification task. This part will include data cleaning and data processing for text data, fine-tuning for the multimodal neural network, final evaluation of the model and error analysis."
      ],
      "metadata": {
        "id": "1vHm-nGzrAqh"
      }
    },
    {
      "cell_type": "markdown",
      "source": [
        "### Import the package"
      ],
      "metadata": {
        "id": "LHx4bc7wrUhn"
      }
    },
    {
      "cell_type": "code",
      "execution_count": null,
      "metadata": {
        "id": "GTIspqwlcroS"
      },
      "outputs": [],
      "source": [
        "path = \"/content/drive/MyDrive/capstone/dataset/train/image\"\n",
        "path2 = \"/content/drive/MyDrive/capstone/dataset/test/image\""
      ]
    },
    {
      "cell_type": "code",
      "source": [
        "!pip install transformers"
      ],
      "metadata": {
        "colab": {
          "base_uri": "https://localhost:8080/"
        },
        "id": "o0nAcvHfuBMK",
        "outputId": "0b68e04c-65b2-4f73-8b43-ab979cc07bc9"
      },
      "execution_count": null,
      "outputs": [
        {
          "output_type": "stream",
          "name": "stdout",
          "text": [
            "Collecting transformers\n",
            "  Downloading transformers-4.18.0-py3-none-any.whl (4.0 MB)\n",
            "\u001b[K     |████████████████████████████████| 4.0 MB 5.5 MB/s \n",
            "\u001b[?25hRequirement already satisfied: filelock in /usr/local/lib/python3.7/dist-packages (from transformers) (3.6.0)\n",
            "Requirement already satisfied: regex!=2019.12.17 in /usr/local/lib/python3.7/dist-packages (from transformers) (2019.12.20)\n",
            "Collecting tokenizers!=0.11.3,<0.13,>=0.11.1\n",
            "  Downloading tokenizers-0.12.1-cp37-cp37m-manylinux_2_12_x86_64.manylinux2010_x86_64.whl (6.6 MB)\n",
            "\u001b[K     |████████████████████████████████| 6.6 MB 39.7 MB/s \n",
            "\u001b[?25hCollecting pyyaml>=5.1\n",
            "  Downloading PyYAML-6.0-cp37-cp37m-manylinux_2_5_x86_64.manylinux1_x86_64.manylinux_2_12_x86_64.manylinux2010_x86_64.whl (596 kB)\n",
            "\u001b[K     |████████████████████████████████| 596 kB 42.5 MB/s \n",
            "\u001b[?25hRequirement already satisfied: requests in /usr/local/lib/python3.7/dist-packages (from transformers) (2.23.0)\n",
            "Requirement already satisfied: packaging>=20.0 in /usr/local/lib/python3.7/dist-packages (from transformers) (21.3)\n",
            "Collecting huggingface-hub<1.0,>=0.1.0\n",
            "  Downloading huggingface_hub-0.5.1-py3-none-any.whl (77 kB)\n",
            "\u001b[K     |████████████████████████████████| 77 kB 6.3 MB/s \n",
            "\u001b[?25hRequirement already satisfied: numpy>=1.17 in /usr/local/lib/python3.7/dist-packages (from transformers) (1.21.6)\n",
            "Requirement already satisfied: importlib-metadata in /usr/local/lib/python3.7/dist-packages (from transformers) (4.11.3)\n",
            "Requirement already satisfied: tqdm>=4.27 in /usr/local/lib/python3.7/dist-packages (from transformers) (4.64.0)\n",
            "Collecting sacremoses\n",
            "  Downloading sacremoses-0.0.50.tar.gz (880 kB)\n",
            "\u001b[K     |████████████████████████████████| 880 kB 45.7 MB/s \n",
            "\u001b[?25hRequirement already satisfied: typing-extensions>=3.7.4.3 in /usr/local/lib/python3.7/dist-packages (from huggingface-hub<1.0,>=0.1.0->transformers) (4.2.0)\n",
            "Requirement already satisfied: pyparsing!=3.0.5,>=2.0.2 in /usr/local/lib/python3.7/dist-packages (from packaging>=20.0->transformers) (3.0.8)\n",
            "Requirement already satisfied: zipp>=0.5 in /usr/local/lib/python3.7/dist-packages (from importlib-metadata->transformers) (3.8.0)\n",
            "Requirement already satisfied: idna<3,>=2.5 in /usr/local/lib/python3.7/dist-packages (from requests->transformers) (2.10)\n",
            "Requirement already satisfied: chardet<4,>=3.0.2 in /usr/local/lib/python3.7/dist-packages (from requests->transformers) (3.0.4)\n",
            "Requirement already satisfied: certifi>=2017.4.17 in /usr/local/lib/python3.7/dist-packages (from requests->transformers) (2021.10.8)\n",
            "Requirement already satisfied: urllib3!=1.25.0,!=1.25.1,<1.26,>=1.21.1 in /usr/local/lib/python3.7/dist-packages (from requests->transformers) (1.24.3)\n",
            "Requirement already satisfied: six in /usr/local/lib/python3.7/dist-packages (from sacremoses->transformers) (1.15.0)\n",
            "Collecting click==8.0\n",
            "  Downloading click-8.0.0-py3-none-any.whl (96 kB)\n",
            "\u001b[K     |████████████████████████████████| 96 kB 5.8 MB/s \n",
            "\u001b[?25hRequirement already satisfied: joblib in /usr/local/lib/python3.7/dist-packages (from sacremoses->transformers) (1.1.0)\n",
            "Building wheels for collected packages: sacremoses\n",
            "  Building wheel for sacremoses (setup.py) ... \u001b[?25l\u001b[?25hdone\n",
            "  Created wheel for sacremoses: filename=sacremoses-0.0.50-py3-none-any.whl size=895166 sha256=25609d365f371356924b8d32dc502672f8e4cc36a21fbf63097bebee0d8f4345\n",
            "  Stored in directory: /root/.cache/pip/wheels/d9/72/54/519f0d5143cc6c73fa3297509123c86fc8586a7fdea8d25311\n",
            "Successfully built sacremoses\n",
            "Installing collected packages: pyyaml, click, tokenizers, sacremoses, huggingface-hub, transformers\n",
            "  Attempting uninstall: pyyaml\n",
            "    Found existing installation: PyYAML 3.13\n",
            "    Uninstalling PyYAML-3.13:\n",
            "      Successfully uninstalled PyYAML-3.13\n",
            "  Attempting uninstall: click\n",
            "    Found existing installation: click 7.1.2\n",
            "    Uninstalling click-7.1.2:\n",
            "      Successfully uninstalled click-7.1.2\n",
            "\u001b[31mERROR: pip's dependency resolver does not currently take into account all the packages that are installed. This behaviour is the source of the following dependency conflicts.\n",
            "flask 1.1.4 requires click<8.0,>=5.1, but you have click 8.0.0 which is incompatible.\u001b[0m\n",
            "Successfully installed click-8.0.0 huggingface-hub-0.5.1 pyyaml-6.0 sacremoses-0.0.50 tokenizers-0.12.1 transformers-4.18.0\n"
          ]
        }
      ]
    },
    {
      "cell_type": "code",
      "source": [
        "#importing Libraries\n",
        "import tensorflow as tf\n",
        "import numpy as np\n",
        "import pandas as pd\n",
        "from tensorflow.keras.models import Sequential\n",
        "from tensorflow.keras.layers import Convolution2D\n",
        "from tensorflow.keras.layers import MaxPooling2D\n",
        "from tensorflow.keras.layers import Flatten\n",
        "from tensorflow.keras.layers import Dense\n",
        "from tensorflow.keras.preprocessing import image\n",
        "from tensorflow.keras.optimizers import Adam\n",
        "from tensorflow.keras.applications import resnet50\n",
        "\n",
        "import matplotlib.pyplot as plt\n",
        "from tensorflow.keras.preprocessing.image import ImageDataGenerator\n",
        "import cv2\n",
        "import os\n",
        "import shutil as shutil\n",
        "from tensorflow import keras\n",
        "from PIL import Image\n",
        "from sklearn.model_selection import train_test_split\n",
        "from tensorflow.keras.preprocessing.image import ImageDataGenerator\n",
        "from tensorflow.keras.optimizers import Adam\n",
        "from sklearn.metrics import accuracy_score\n",
        "np.random.seed(42)\n",
        "\n",
        "from matplotlib import style\n",
        "style.use('fivethirtyeight')\n",
        "\n",
        "import argparse\n",
        "import glob\n",
        "import json\n",
        "import logging\n",
        "import os\n",
        "import random\n",
        "from sklearn.metrics import f1_score\n",
        "from torch import nn\n",
        "from torch.utils.data import DataLoader, RandomSampler, SequentialSampler\n",
        "from torch.utils.data.distributed import DistributedSampler\n",
        "from tqdm import tqdm, trange\n",
        "\n",
        "import transformers\n",
        "from transformers import (\n",
        "    WEIGHTS_NAME,\n",
        "    AdamW,\n",
        "    AutoConfig,\n",
        "    AutoModel,\n",
        "    AutoTokenizer,\n",
        "    MMBTConfig,\n",
        "    MMBTForClassification,\n",
        "    get_linear_schedule_with_warmup,\n",
        ")\n",
        "from transformers.trainer_utils import is_main_process\n",
        "\n",
        "import warnings\n",
        "warnings.filterwarnings('ignore')"
      ],
      "metadata": {
        "id": "PhONy4ToiM9a"
      },
      "execution_count": null,
      "outputs": []
    },
    {
      "cell_type": "code",
      "source": [
        "from google.colab import drive\n",
        "drive.mount('/content/drive')"
      ],
      "metadata": {
        "colab": {
          "base_uri": "https://localhost:8080/"
        },
        "id": "N5CgP4YNiRwL",
        "outputId": "c7f01001-7110-4ee8-bdc8-246565a2031d"
      },
      "execution_count": null,
      "outputs": [
        {
          "output_type": "stream",
          "name": "stdout",
          "text": [
            "Mounted at /content/drive\n"
          ]
        }
      ]
    },
    {
      "cell_type": "markdown",
      "source": [
        "### Load the data"
      ],
      "metadata": {
        "id": "eskz5QKtrZz8"
      }
    },
    {
      "cell_type": "code",
      "source": [
        "import os\n",
        "for dirname, _, filenames in os.walk('/content/drive/MyDrive/capstone/dataset/train/image'):\n",
        "    for filename in filenames:\n",
        "        os.path.join(dirname, filename)"
      ],
      "metadata": {
        "id": "3J4TQyggiTe4"
      },
      "execution_count": null,
      "outputs": []
    },
    {
      "cell_type": "code",
      "source": [
        "IMG_HEIGHT = 60\n",
        "IMG_WIDTH = 60\n",
        "channels = 3"
      ],
      "metadata": {
        "id": "WNsZKpZBiZZk"
      },
      "execution_count": null,
      "outputs": []
    },
    {
      "cell_type": "code",
      "source": [
        "NUM_CATEGORIES = len(os.listdir(path))\n",
        "NUM_CATEGORIES"
      ],
      "metadata": {
        "colab": {
          "base_uri": "https://localhost:8080/"
        },
        "id": "SFYtlm5figkt",
        "outputId": "4654ff0f-b39d-467b-ee72-1510cdc13c7e"
      },
      "execution_count": null,
      "outputs": [
        {
          "output_type": "execute_result",
          "data": {
            "text/plain": [
              "5"
            ]
          },
          "metadata": {},
          "execution_count": 7
        }
      ]
    },
    {
      "cell_type": "code",
      "source": [
        "classes = { 1:'Business',\n",
        "            2:'Entertainment', \n",
        "            3:'Politics', \n",
        "            4:'Sport', \n",
        "            5:'Technology'}"
      ],
      "metadata": {
        "id": "8AKKeGj3ih1m"
      },
      "execution_count": null,
      "outputs": []
    },
    {
      "cell_type": "code",
      "source": [
        "image_data = []\n",
        "image_labels = []\n",
        "image_file = []\n",
        "path = \"/content/drive/MyDrive/capstone/dataset/train/image\"\n",
        "\n",
        "\n",
        "for i in range(NUM_CATEGORIES):\n",
        "    paths = path + '/' + str(i+1)\n",
        "    images = os.listdir(paths)\n",
        "\n",
        "    for img in images:\n",
        "        \n",
        "        try:\n",
        "            image = cv2.imread(paths + '/' + img)\n",
        "            image_fromarray = Image.fromarray(image, 'RGB')\n",
        "            resize_image = image_fromarray.resize((IMG_HEIGHT, IMG_WIDTH))\n",
        "            image_data.append(np.array(resize_image))\n",
        "            image_labels.append(i)\n",
        "            image_file.append(img[0:4])\n",
        "        except:\n",
        "            a = 1\n",
        "            #print(\"Error in \" + img)\n",
        "\n",
        "# Changing the list to numpy array\n",
        "image_data = np.array(image_data)\n",
        "image_labels = np.array(image_labels)\n",
        "\n",
        "X_train = np.array(image_data)\n",
        "y_train = np.array(image_labels)\n",
        "\n",
        "print(image_data.shape, image_labels.shape)"
      ],
      "metadata": {
        "id": "Wyl5M1mHijSP",
        "colab": {
          "base_uri": "https://localhost:8080/"
        },
        "outputId": "0ea1abb9-978a-4795-838e-327ccba0b879"
      },
      "execution_count": null,
      "outputs": [
        {
          "output_type": "stream",
          "name": "stdout",
          "text": [
            "(1619, 60, 60, 3) (1619,)\n"
          ]
        }
      ]
    },
    {
      "cell_type": "code",
      "source": [
        "image2_data = []\n",
        "image2_labels = []\n",
        "X_file = []\n",
        "path2 = \"/content/drive/MyDrive/capstone/dataset/test/image\"\n",
        "\n",
        "for i in range(NUM_CATEGORIES):\n",
        "    paths2 = path2 + '/' + str(i+1)\n",
        "    images2 = os.listdir(paths2)\n",
        "    print(images2)\n",
        "\n",
        "    for img in images2:\n",
        "      try:\n",
        "        image = cv2.imread(paths2 + '/' +img)\n",
        "        \n",
        "        image_fromarray = Image.fromarray(image, 'RGB')\n",
        "        resize_image = image_fromarray.resize((IMG_HEIGHT, IMG_WIDTH))\n",
        "        image2_data.append(np.array(resize_image))\n",
        "        image2_labels.append(i)\n",
        "        image_file.append(img[0:4])\n",
        "        X_file.append(img)\n",
        "      except:\n",
        "        a = 1\n",
        "        #print(\"Error in \" + img)\n",
        "X_test = np.array(image2_data)\n",
        "y_test = np.array(image2_labels)\n",
        "print(X_test.shape, y_test.shape)"
      ],
      "metadata": {
        "id": "g7kxzuVpim1K",
        "colab": {
          "base_uri": "https://localhost:8080/"
        },
        "outputId": "a4fa6706-c787-4643-e825-3455cf6a48e3"
      },
      "execution_count": null,
      "outputs": [
        {
          "output_type": "stream",
          "name": "stdout",
          "text": [
            "['1170.jpg', '1068.jpg', '1135.jpg', '1489.jpg', '1103.jpg', '1229.jpg', '1198.jpg', '1447.jpg', '1056.jpg', '1481.jpg', '1375.jpg', '1116.jpg', '1045.jpg', '1396.jpg', '1123.jpg', '1496.jpg', '1376.jpg', '1279.jpg', '1172.jpg', '1402.jpg', '1167.jpg', '1339.jpg', '1393.jpg', '1341.jpg', '1097.jpg', '1202.jpg', '1400.jpg', '1162.jpg', '1235.jpg', '1359.jpg', '1488.jpg', '1487.jpg', '1242.jpg', '1038.jpg', '1292.jpg', '1406.jpg', '1256.jpg', '1037.jpg', '1046.jpg', '1078.jpg', '1251.jpg', '1421.jpg', '1350.jpg', '1308.jpg', '1220.jpg', '1224.jpg', '1382.jpg', '1150.jpg', '1210.jpg', '1418.jpg', '1188.jpg', '1351.jpg', '1320.jpg', '1275.jpg', '1161.jpg', '1180.jpg', '1403.jpg', '1154.jpg', '1342.jpg', '1317.jpg', '1218.jpg', '1024.jpg', '1498.jpg', '1141.jpg', '1194.jpg', '1419.jpg', '1356.jpg', '1143.jpg', '1307.jpg', '1411.jpg', '1176.jpg', '1148.jpg', '1357.jpg', '1379.jpg', '1085.jpg', '1142.jpg', '1263.jpg', '1249.jpg', '1361.jpg', '1173.jpg', '1332.jpg', '1314.jpg', '1155.jpg', '1099.jpg', '1138.jpg', '1371.jpg', '1369.jpg', '1303.jpg', '1442.jpg', '1503.jpg', '1039.jpg']\n",
            "['2360.jpg', '2273.jpg', '2094.jpg', '2340.jpg', '2369.jpg', '2213.jpg', '2007.jpg', '2219.jpg', '2344.jpg', '2337.jpg', '2244.jpg', '2170.jpg', '2352.jpg', '2153.jpg', '2144.jpg', '2039.jpg', '2229.jpg', '2079.jpg', '2326.jpg', '2097.jpg', '2145.jpg', '2317.jpg', '2363.jpg', '2114.jpg', '2271.jpg', '2140.jpg', '2341.jpg', '2370.jpg', '2275.jpg', '2205.jpg', '2367.jpg', '2249.jpg', '2323.jpg', '2141.jpg', '2164.jpg', '2325.jpg', '2106.jpg', '2123.jpg', '2178.jpg', '2064.jpg', '2108.jpg', '2029.jpg', '2215.jpg', '2159.jpg', '2197.jpg', '2256.jpg', '2250.jpg', '2357.jpg', '2373.jpg', '2361.jpg', '2260.jpg', '2374.jpg', '2009.jpg', '2209.jpg', '2221.jpg', '2080.jpg', '2059.jpg', '2133.jpg', '2381.jpg', '2168.jpg', '2338.jpg', '2005.jpg', '2127.jpg', '2226.jpg', '2245.jpg', '2222.jpg', '2070.jpg', '2137.jpg', '2334.jpg', '2195.jpg', '2386.jpg', '2282.jpg', '2095.jpg', '2055.jpg', '2365.jpg', '2083.jpg', '2385.jpg', '2126.jpg', '2318.jpg', '2151.jpg']\n",
            "['3189.jpg', '3221.jpg', '3263.jpg', '3318.jpg', '3407.jpg', '3316.jpg', '3111.jpg', '3270.jpg', '3008.jpg', '3317.jpg', '3269.jpg', '3033.jpg', '3220.jpg', '3150.jpg', '3102.jpg', '3076.jpg', '3153.jpg', '3175.jpg', '3042.jpg', '3021.jpg', '3205.jpg', '3160.jpg', '3183.jpg', '3026.jpg', '3049.jpg', '3363.jpg', '3177.jpg', '3360.jpg', '3023.jpg', '3342.jpg', '3213.jpg', '3379.jpg', '3099.jpg', '3397.jpg', '3197.jpg', '3135.jpg', '3344.jpg', '3087.jpg', '3066.jpg', '3401.jpg', '3377.jpg', '3332.jpg', '3065.jpg', '3327.jpg', '3285.jpg', '3229.jpg', '3276.jpg', '3105.jpg', '3081.jpg', '3297.jpg', '3266.jpg', '3170.jpg', '3199.jpg', '3204.jpg', '3298.jpg', '3120.jpg', '3071.jpg', '3224.jpg', '3402.jpg', '3123.jpg', '3119.jpg', '3192.jpg', '3078.jpg', '3084.jpg', '3079.jpg', '3210.jpg', '3315.jpg', '3112.jpg']\n",
            "['4085.jpg', '4450.jpg', '4455.jpg', '4386.jpg', '4016.jpg', '4003.jpg', '4321.jpg', '4095.jpg', '4405.jpg', '4432.jpg', '4305.jpg', '4409.jpg', '4137.jpg', '4199.jpg', '4052.jpg', '4291.jpg', '4457.jpg', '4439.jpg', '4398.jpg', '4273.jpg', '4256.jpg', '4212.jpg', '4421.jpg', '4428.jpg', '4508.jpg', '4108.jpg', '4328.jpg', '4286.jpg', '4220.jpg', '4418.jpg', '4390.jpg', '4001.jpg', '4062.jpg', '4243.jpg', '4150.jpg', '4051.jpg', '4099.jpg', '4414.jpg', '4031.jpg', '4447.jpg', '4442.jpg', '4504.jpg', '4086.jpg', '4039.jpg', '4055.jpg', '4379.jpg', '4160.jpg', '4353.jpg', '4102.jpg', '4121.jpg', '4181.jpg', '4058.jpg', '4406.jpg', '4255.jpg', '4175.jpg', '4242.jpg', '4071.jpg', '4496.jpg', '4002.jpg', '4017.jpg', '4454.jpg', '4135.jpg', '4177.jpg', '4334.jpg', '4397.jpg', '4367.jpg', '4329.jpg', '4303.jpg', '4435.jpg', '4295.jpg', '4378.jpg', '4169.jpg', '4100.jpg', '4066.jpg', '4045.jpg', '4358.jpg', '4107.jpg', '4229.jpg', '4018.jpg', '4431.jpg', '4156.jpg', '4064.jpg', '4221.jpg', '4458.jpg', '4185.jpg', '4068.jpg', '4495.jpg', '4360.jpg', '4347.jpg', '4349.jpg', '4344.jpg', '4011.jpg', '4461.jpg', '4310.jpg', '4050.jpg', '4448.jpg', '4511.jpg', '4048.jpg', '4128.jpg']\n",
            "['5307.jpg', '5342.jpg', '5308.jpg', '5183.jpg', '5156.jpg', '5268.jpg', '5016.jpg', '5111.jpg', '5029.jpg', '5091.jpg', '5294.jpg', '5140.jpg', '5088.jpg', '5219.jpg', '5327.jpg', '5162.jpg', '5032.jpg', '5139.jpg', '5363.jpg', '5158.jpg', '5093.jpg', '5053.jpg', '5159.jpg', '5027.jpg', '5263.jpg', '5071.jpg', '5067.jpg', '5061.jpg', '5346.jpg', '5050.jpg', '5049.jpg', '5059.jpg', '5073.jpg', '5143.jpg', '5225.jpg', '5002.jpg', '5226.jpg', '5018.jpg', '5381.jpg', '5101.jpg', '5165.jpg', '5379.jpg', '5152.jpg', '5246.jpg', '5237.jpg', '5077.jpg', '5033.jpg', '5038.jpg', '5012.jpg', '5085.jpg', '5241.jpg', '5375.jpg', '5060.jpg', '5126.jpg', '5178.jpg', '5260.jpg', '5227.jpg', '5005.jpg', '5186.jpg', '5082.jpg', '5328.jpg', '5360.jpg', '5133.jpg', '5344.jpg', '5074.jpg', '5388.jpg', '5031.jpg', '5098.jpg', '5006.jpg', '5181.jpg', '5043.jpg', '5310.jpg', '5125.jpg', '5297.jpg', '5329.jpg', '5302.jpg', '5189.jpg', '5201.jpg']\n",
            "(407, 60, 60, 3) (407,)\n"
          ]
        }
      ]
    },
    {
      "cell_type": "code",
      "source": [
        "Path = \"/content/drive/MyDrive/capstone/dataset/train/text\"\n",
        "directory = []\n",
        "file = []\n",
        "title = []\n",
        "text = []\n",
        "label = []\n",
        "for dirname, _ , filenames in os.walk(Path):\n",
        "    try:\n",
        "        filenames.remove('README.TXT')\n",
        "    except:\n",
        "        pass\n",
        "    for filename in filenames:\n",
        "      if filename[0:4] in image_file:\n",
        "        directory.append(dirname)\n",
        "        file.append(filename)\n",
        "        fullpathfile = os.path.join(dirname,filename)\n",
        "        with open(fullpathfile, 'r', encoding=\"utf8\", errors='ignore') as infile:\n",
        "            intext = ''\n",
        "            firstline = True\n",
        "            for line in infile:\n",
        "                if firstline:\n",
        "                    title.append(line.replace('\\n',''))\n",
        "                    firstline = False\n",
        "                else:\n",
        "                    intext = intext + ' ' + line.replace('\\n','')\n",
        "            text.append(intext)\n",
        "label = []\n",
        "for i in file:\n",
        "  label.append((int)(i[0]))\n",
        "                            "
      ],
      "metadata": {
        "id": "4PD-ZKb2i1gQ"
      },
      "execution_count": null,
      "outputs": []
    },
    {
      "cell_type": "code",
      "source": [
        "df = pd.DataFrame(list(zip(title, text, image_data, label)), \n",
        "               columns =['title', 'text', 'image', 'label'])"
      ],
      "metadata": {
        "id": "tl4Rwx8EoTCa"
      },
      "execution_count": null,
      "outputs": []
    },
    {
      "cell_type": "code",
      "source": [
        "df"
      ],
      "metadata": {
        "id": "blRgTGPcaDMx",
        "colab": {
          "base_uri": "https://localhost:8080/",
          "height": 423
        },
        "outputId": "8668269d-a47b-4d4b-e2d7-787f9b1f1781"
      },
      "execution_count": null,
      "outputs": [
        {
          "output_type": "execute_result",
          "data": {
            "text/plain": [
              "                                     title  \\\n",
              "0           Kennedy to make temple address   \n",
              "1         Retirement age could be scrapped   \n",
              "2         Ruddock backs Yapp's credentials   \n",
              "3        Radcliffe enjoys winning comeback   \n",
              "4        BAA support ahead of court battle   \n",
              "...                                    ...   \n",
              "1614      BMW to recall faulty diesel cars   \n",
              "1615           Henman hopes ended in Dubai   \n",
              "1616     Broadband fuels online expression   \n",
              "1617  Brown and Blair face new rift claims   \n",
              "1618     Richard and Judy choose top books   \n",
              "\n",
              "                                                   text  \\\n",
              "0       Charles Kennedy is set to address 2,000 peop...   \n",
              "1       The \"myth that ageing is a barrier\" to contr...   \n",
              "2       Wales coach Mike Ruddock says John Yapp has ...   \n",
              "3       Paula Radcliffe made a triumphant return to ...   \n",
              "4       UK airport operator BAA has reiterated its s...   \n",
              "...                                                 ...   \n",
              "1614    BMW is to recall all cars equipped with a fa...   \n",
              "1615    Third seed Tim Henman slumped to a straight ...   \n",
              "1616    Fast web access is encouraging more people t...   \n",
              "1617    For the umpteenth time, Tony Blair and Gordo...   \n",
              "1618    The 10 authors shortlisted for a Richard and...   \n",
              "\n",
              "                                                  image  label  \n",
              "0     [[[62, 56, 50], [81, 71, 60], [83, 69, 55], [8...      3  \n",
              "1     [[[69, 83, 99], [88, 112, 132], [87, 106, 128]...      3  \n",
              "2     [[[17, 20, 30], [22, 27, 39], [18, 23, 34], [1...      4  \n",
              "3     [[[17, 19, 21], [31, 29, 31], [45, 50, 49], [5...      4  \n",
              "4     [[[101, 95, 99], [133, 127, 134], [126, 123, 1...      3  \n",
              "...                                                 ...    ...  \n",
              "1614  [[[2, 1, 8], [8, 6, 24], [6, 6, 32], [88, 94, ...      1  \n",
              "1615  [[[63, 73, 53], [72, 96, 67], [76, 94, 67], [7...      4  \n",
              "1616  [[[114, 106, 99], [152, 138, 125], [155, 137, ...      5  \n",
              "1617  [[[23, 40, 62], [45, 76, 105], [49, 86, 122], ...      3  \n",
              "1618  [[[55, 53, 61], [67, 61, 74], [71, 61, 78], [7...      2  \n",
              "\n",
              "[1619 rows x 4 columns]"
            ],
            "text/html": [
              "\n",
              "  <div id=\"df-c92aeda2-1f57-4e36-80c5-c8d06d33a7aa\">\n",
              "    <div class=\"colab-df-container\">\n",
              "      <div>\n",
              "<style scoped>\n",
              "    .dataframe tbody tr th:only-of-type {\n",
              "        vertical-align: middle;\n",
              "    }\n",
              "\n",
              "    .dataframe tbody tr th {\n",
              "        vertical-align: top;\n",
              "    }\n",
              "\n",
              "    .dataframe thead th {\n",
              "        text-align: right;\n",
              "    }\n",
              "</style>\n",
              "<table border=\"1\" class=\"dataframe\">\n",
              "  <thead>\n",
              "    <tr style=\"text-align: right;\">\n",
              "      <th></th>\n",
              "      <th>title</th>\n",
              "      <th>text</th>\n",
              "      <th>image</th>\n",
              "      <th>label</th>\n",
              "    </tr>\n",
              "  </thead>\n",
              "  <tbody>\n",
              "    <tr>\n",
              "      <th>0</th>\n",
              "      <td>Kennedy to make temple address</td>\n",
              "      <td>Charles Kennedy is set to address 2,000 peop...</td>\n",
              "      <td>[[[62, 56, 50], [81, 71, 60], [83, 69, 55], [8...</td>\n",
              "      <td>3</td>\n",
              "    </tr>\n",
              "    <tr>\n",
              "      <th>1</th>\n",
              "      <td>Retirement age could be scrapped</td>\n",
              "      <td>The \"myth that ageing is a barrier\" to contr...</td>\n",
              "      <td>[[[69, 83, 99], [88, 112, 132], [87, 106, 128]...</td>\n",
              "      <td>3</td>\n",
              "    </tr>\n",
              "    <tr>\n",
              "      <th>2</th>\n",
              "      <td>Ruddock backs Yapp's credentials</td>\n",
              "      <td>Wales coach Mike Ruddock says John Yapp has ...</td>\n",
              "      <td>[[[17, 20, 30], [22, 27, 39], [18, 23, 34], [1...</td>\n",
              "      <td>4</td>\n",
              "    </tr>\n",
              "    <tr>\n",
              "      <th>3</th>\n",
              "      <td>Radcliffe enjoys winning comeback</td>\n",
              "      <td>Paula Radcliffe made a triumphant return to ...</td>\n",
              "      <td>[[[17, 19, 21], [31, 29, 31], [45, 50, 49], [5...</td>\n",
              "      <td>4</td>\n",
              "    </tr>\n",
              "    <tr>\n",
              "      <th>4</th>\n",
              "      <td>BAA support ahead of court battle</td>\n",
              "      <td>UK airport operator BAA has reiterated its s...</td>\n",
              "      <td>[[[101, 95, 99], [133, 127, 134], [126, 123, 1...</td>\n",
              "      <td>3</td>\n",
              "    </tr>\n",
              "    <tr>\n",
              "      <th>...</th>\n",
              "      <td>...</td>\n",
              "      <td>...</td>\n",
              "      <td>...</td>\n",
              "      <td>...</td>\n",
              "    </tr>\n",
              "    <tr>\n",
              "      <th>1614</th>\n",
              "      <td>BMW to recall faulty diesel cars</td>\n",
              "      <td>BMW is to recall all cars equipped with a fa...</td>\n",
              "      <td>[[[2, 1, 8], [8, 6, 24], [6, 6, 32], [88, 94, ...</td>\n",
              "      <td>1</td>\n",
              "    </tr>\n",
              "    <tr>\n",
              "      <th>1615</th>\n",
              "      <td>Henman hopes ended in Dubai</td>\n",
              "      <td>Third seed Tim Henman slumped to a straight ...</td>\n",
              "      <td>[[[63, 73, 53], [72, 96, 67], [76, 94, 67], [7...</td>\n",
              "      <td>4</td>\n",
              "    </tr>\n",
              "    <tr>\n",
              "      <th>1616</th>\n",
              "      <td>Broadband fuels online expression</td>\n",
              "      <td>Fast web access is encouraging more people t...</td>\n",
              "      <td>[[[114, 106, 99], [152, 138, 125], [155, 137, ...</td>\n",
              "      <td>5</td>\n",
              "    </tr>\n",
              "    <tr>\n",
              "      <th>1617</th>\n",
              "      <td>Brown and Blair face new rift claims</td>\n",
              "      <td>For the umpteenth time, Tony Blair and Gordo...</td>\n",
              "      <td>[[[23, 40, 62], [45, 76, 105], [49, 86, 122], ...</td>\n",
              "      <td>3</td>\n",
              "    </tr>\n",
              "    <tr>\n",
              "      <th>1618</th>\n",
              "      <td>Richard and Judy choose top books</td>\n",
              "      <td>The 10 authors shortlisted for a Richard and...</td>\n",
              "      <td>[[[55, 53, 61], [67, 61, 74], [71, 61, 78], [7...</td>\n",
              "      <td>2</td>\n",
              "    </tr>\n",
              "  </tbody>\n",
              "</table>\n",
              "<p>1619 rows × 4 columns</p>\n",
              "</div>\n",
              "      <button class=\"colab-df-convert\" onclick=\"convertToInteractive('df-c92aeda2-1f57-4e36-80c5-c8d06d33a7aa')\"\n",
              "              title=\"Convert this dataframe to an interactive table.\"\n",
              "              style=\"display:none;\">\n",
              "        \n",
              "  <svg xmlns=\"http://www.w3.org/2000/svg\" height=\"24px\"viewBox=\"0 0 24 24\"\n",
              "       width=\"24px\">\n",
              "    <path d=\"M0 0h24v24H0V0z\" fill=\"none\"/>\n",
              "    <path d=\"M18.56 5.44l.94 2.06.94-2.06 2.06-.94-2.06-.94-.94-2.06-.94 2.06-2.06.94zm-11 1L8.5 8.5l.94-2.06 2.06-.94-2.06-.94L8.5 2.5l-.94 2.06-2.06.94zm10 10l.94 2.06.94-2.06 2.06-.94-2.06-.94-.94-2.06-.94 2.06-2.06.94z\"/><path d=\"M17.41 7.96l-1.37-1.37c-.4-.4-.92-.59-1.43-.59-.52 0-1.04.2-1.43.59L10.3 9.45l-7.72 7.72c-.78.78-.78 2.05 0 2.83L4 21.41c.39.39.9.59 1.41.59.51 0 1.02-.2 1.41-.59l7.78-7.78 2.81-2.81c.8-.78.8-2.07 0-2.86zM5.41 20L4 18.59l7.72-7.72 1.47 1.35L5.41 20z\"/>\n",
              "  </svg>\n",
              "      </button>\n",
              "      \n",
              "  <style>\n",
              "    .colab-df-container {\n",
              "      display:flex;\n",
              "      flex-wrap:wrap;\n",
              "      gap: 12px;\n",
              "    }\n",
              "\n",
              "    .colab-df-convert {\n",
              "      background-color: #E8F0FE;\n",
              "      border: none;\n",
              "      border-radius: 50%;\n",
              "      cursor: pointer;\n",
              "      display: none;\n",
              "      fill: #1967D2;\n",
              "      height: 32px;\n",
              "      padding: 0 0 0 0;\n",
              "      width: 32px;\n",
              "    }\n",
              "\n",
              "    .colab-df-convert:hover {\n",
              "      background-color: #E2EBFA;\n",
              "      box-shadow: 0px 1px 2px rgba(60, 64, 67, 0.3), 0px 1px 3px 1px rgba(60, 64, 67, 0.15);\n",
              "      fill: #174EA6;\n",
              "    }\n",
              "\n",
              "    [theme=dark] .colab-df-convert {\n",
              "      background-color: #3B4455;\n",
              "      fill: #D2E3FC;\n",
              "    }\n",
              "\n",
              "    [theme=dark] .colab-df-convert:hover {\n",
              "      background-color: #434B5C;\n",
              "      box-shadow: 0px 1px 3px 1px rgba(0, 0, 0, 0.15);\n",
              "      filter: drop-shadow(0px 1px 2px rgba(0, 0, 0, 0.3));\n",
              "      fill: #FFFFFF;\n",
              "    }\n",
              "  </style>\n",
              "\n",
              "      <script>\n",
              "        const buttonEl =\n",
              "          document.querySelector('#df-c92aeda2-1f57-4e36-80c5-c8d06d33a7aa button.colab-df-convert');\n",
              "        buttonEl.style.display =\n",
              "          google.colab.kernel.accessAllowed ? 'block' : 'none';\n",
              "\n",
              "        async function convertToInteractive(key) {\n",
              "          const element = document.querySelector('#df-c92aeda2-1f57-4e36-80c5-c8d06d33a7aa');\n",
              "          const dataTable =\n",
              "            await google.colab.kernel.invokeFunction('convertToInteractive',\n",
              "                                                     [key], {});\n",
              "          if (!dataTable) return;\n",
              "\n",
              "          const docLinkHtml = 'Like what you see? Visit the ' +\n",
              "            '<a target=\"_blank\" href=https://colab.research.google.com/notebooks/data_table.ipynb>data table notebook</a>'\n",
              "            + ' to learn more about interactive tables.';\n",
              "          element.innerHTML = '';\n",
              "          dataTable['output_type'] = 'display_data';\n",
              "          await google.colab.output.renderOutput(dataTable, element);\n",
              "          const docLink = document.createElement('div');\n",
              "          docLink.innerHTML = docLinkHtml;\n",
              "          element.appendChild(docLink);\n",
              "        }\n",
              "      </script>\n",
              "    </div>\n",
              "  </div>\n",
              "  "
            ]
          },
          "metadata": {},
          "execution_count": 13
        }
      ]
    },
    {
      "cell_type": "markdown",
      "source": [
        "### CNN to extract the image feature"
      ],
      "metadata": {
        "id": "lVwjszmsrh3r"
      }
    },
    {
      "cell_type": "code",
      "source": [
        "shuffle_indexes = np.arange(image_data.shape[0])\n",
        "np.random.shuffle(shuffle_indexes)\n",
        "image_data = image_data[shuffle_indexes]\n",
        "image_labels = image_labels[shuffle_indexes]"
      ],
      "metadata": {
        "id": "Ay6bp7BmsywK"
      },
      "execution_count": null,
      "outputs": []
    },
    {
      "cell_type": "code",
      "source": [
        "X_train, X_val, y_train, y_val = train_test_split(image_data, image_labels, test_size=0.2, random_state=42, shuffle=True)\n",
        "\n",
        "X_train = X_train/255 \n",
        "X_val = X_val/255\n",
        "\n",
        "print(\"X_train.shape\", X_train.shape)\n",
        "print(\"X_valid.shape\", X_val.shape)\n",
        "print(\"y_train.shape\", y_train.shape)\n",
        "print(\"y_valid.shape\", y_val.shape)"
      ],
      "metadata": {
        "id": "miHamOKzuvzl",
        "colab": {
          "base_uri": "https://localhost:8080/"
        },
        "outputId": "70cf12a3-8bab-41ea-fd60-6e9588136ecf"
      },
      "execution_count": null,
      "outputs": [
        {
          "output_type": "stream",
          "name": "stdout",
          "text": [
            "X_train.shape (1295, 60, 60, 3)\n",
            "X_valid.shape (324, 60, 60, 3)\n",
            "y_train.shape (1295,)\n",
            "y_valid.shape (324,)\n"
          ]
        }
      ]
    },
    {
      "cell_type": "code",
      "source": [
        "from keras.utils import np_utils"
      ],
      "metadata": {
        "id": "yqSVp0W0vPXt"
      },
      "execution_count": null,
      "outputs": []
    },
    {
      "cell_type": "code",
      "source": [
        "y_train = np_utils.to_categorical(y_train, NUM_CATEGORIES)\n",
        "y_val = np_utils.to_categorical(y_val, NUM_CATEGORIES)\n",
        "print(y_train.shape)\n",
        "print(y_val.shape)"
      ],
      "metadata": {
        "id": "rTzpOARdvEDA",
        "colab": {
          "base_uri": "https://localhost:8080/"
        },
        "outputId": "62a5dcb3-0043-471c-aeae-0ca36fcd9951"
      },
      "execution_count": null,
      "outputs": [
        {
          "output_type": "stream",
          "name": "stdout",
          "text": [
            "(1295, 5)\n",
            "(324, 5)\n"
          ]
        }
      ]
    },
    {
      "cell_type": "code",
      "source": [
        "NUM_CATEGORIES = len(os.listdir(path))\n",
        "NUM_CATEGORIES"
      ],
      "metadata": {
        "id": "FXK650QibAMN",
        "colab": {
          "base_uri": "https://localhost:8080/"
        },
        "outputId": "d8f30c8a-cc3e-4da8-d8c8-202c2b583209"
      },
      "execution_count": null,
      "outputs": [
        {
          "output_type": "execute_result",
          "data": {
            "text/plain": [
              "5"
            ]
          },
          "metadata": {},
          "execution_count": 18
        }
      ]
    },
    {
      "cell_type": "code",
      "source": [
        "shuffle_indexes = np.arange(X_test.shape[0])\n",
        "np.random.shuffle(shuffle_indexes)\n",
        "X_test = X_test[shuffle_indexes]\n",
        "y_test = y_test[shuffle_indexes]\n",
        "X_test = X_test/255\n",
        "y_test = np_utils.to_categorical(y_test, NUM_CATEGORIES)"
      ],
      "metadata": {
        "id": "KgbteGxsKqlp"
      },
      "execution_count": null,
      "outputs": []
    },
    {
      "cell_type": "code",
      "source": [
        "X_test = X_test/255\n",
        "y_test = np_utils.to_categorical(y_test, NUM_CATEGORIES)"
      ],
      "metadata": {
        "id": "F4FmbFH8jP5v"
      },
      "execution_count": null,
      "outputs": []
    },
    {
      "cell_type": "code",
      "source": [
        "print(\"X_test.shape\", X_test.shape)\n",
        "print(\"y_test.shape\", y_test.shape)"
      ],
      "metadata": {
        "id": "gl-6cZ4jhHbn",
        "colab": {
          "base_uri": "https://localhost:8080/"
        },
        "outputId": "e168dcab-4795-4c56-d0d6-d7e17ef247de"
      },
      "execution_count": null,
      "outputs": [
        {
          "output_type": "stream",
          "name": "stdout",
          "text": [
            "X_test.shape (407, 60, 60, 3)\n",
            "y_test.shape (407, 5)\n"
          ]
        }
      ]
    },
    {
      "cell_type": "code",
      "source": [
        "import keras,os\n",
        "from keras.models import Sequential\n",
        "from keras.layers import Dense, Conv2D, MaxPool2D , Flatten\n",
        "from keras.preprocessing.image import ImageDataGenerator\n",
        "import numpy as np"
      ],
      "metadata": {
        "id": "qEUn2ka1mTGc"
      },
      "execution_count": null,
      "outputs": []
    },
    {
      "cell_type": "code",
      "source": [
        "model2 = keras.models.Sequential([    \n",
        "    keras.layers.Conv2D(filters=32, kernel_size=(3,3), activation='relu', input_shape=(IMG_HEIGHT,IMG_WIDTH,channels)),\n",
        "    keras.layers.Conv2D(filters=64, kernel_size=(3,3), activation='relu'),\n",
        "    keras.layers.MaxPool2D(pool_size=(2, 2)),\n",
        "    keras.layers.BatchNormalization(axis=-1),\n",
        "    \n",
        "    keras.layers.Conv2D(filters=128, kernel_size=(3,3), activation='relu'),\n",
        "    keras.layers.Conv2D(filters=512, kernel_size=(3,3), activation='relu'),\n",
        "    keras.layers.MaxPool2D(pool_size=(2, 2)),\n",
        "    keras.layers.BatchNormalization(axis=-1),\n",
        "    \n",
        "    keras.layers.Flatten(),\n",
        "    keras.layers.Dense(1024, activation='relu'),\n",
        "    keras.layers.BatchNormalization(),\n",
        "    keras.layers.Dropout(rate=0.5),\n",
        "    \n",
        "    keras.layers.Dense(5, activation='softmax', name = \"softmax\")\n",
        "])"
      ],
      "metadata": {
        "id": "71aLbp-6mhH9"
      },
      "execution_count": null,
      "outputs": []
    },
    {
      "cell_type": "code",
      "source": [
        "lr = 0.0001\n",
        "epochs = 35\n",
        "\n",
        "opt = Adam(lr=lr, decay=lr / (epochs * 0.5))\n",
        "model2.compile(loss='categorical_crossentropy', optimizer=opt, metrics=['accuracy'])"
      ],
      "metadata": {
        "id": "C803jvc6p77v"
      },
      "execution_count": null,
      "outputs": []
    },
    {
      "cell_type": "code",
      "source": [
        "aug = ImageDataGenerator(\n",
        "    rotation_range=10,\n",
        "    zoom_range=0.15,\n",
        "    width_shift_range=0.1,\n",
        "    height_shift_range=0.1,\n",
        "    shear_range=0.15,\n",
        "    horizontal_flip=False,\n",
        "    vertical_flip=False,\n",
        "    fill_mode=\"nearest\")\n",
        "\n",
        "history = model2.fit(aug.flow(X_train, y_train, batch_size=32), epochs=epochs, validation_data=(X_test, y_test))"
      ],
      "metadata": {
        "id": "cqwS25uNp977",
        "colab": {
          "base_uri": "https://localhost:8080/"
        },
        "outputId": "4e6221de-9f9a-4d59-e0f5-065585d0a8d9"
      },
      "execution_count": null,
      "outputs": [
        {
          "output_type": "stream",
          "name": "stdout",
          "text": [
            "Epoch 1/35\n",
            "41/41 [==============================] - 101s 2s/step - loss: 3.1854 - accuracy: 0.2819 - val_loss: 1.5862 - val_accuracy: 0.3219\n",
            "Epoch 2/35\n",
            "41/41 [==============================] - 98s 2s/step - loss: 2.1030 - accuracy: 0.3745 - val_loss: 1.6305 - val_accuracy: 0.1990\n",
            "Epoch 3/35\n",
            "41/41 [==============================] - 98s 2s/step - loss: 1.8133 - accuracy: 0.4085 - val_loss: 1.6590 - val_accuracy: 0.2088\n",
            "Epoch 4/35\n",
            "41/41 [==============================] - 98s 2s/step - loss: 1.6079 - accuracy: 0.4880 - val_loss: 1.6123 - val_accuracy: 0.2088\n",
            "Epoch 5/35\n",
            "41/41 [==============================] - 97s 2s/step - loss: 1.5108 - accuracy: 0.4803 - val_loss: 1.8067 - val_accuracy: 0.2088\n",
            "Epoch 6/35\n",
            "41/41 [==============================] - 97s 2s/step - loss: 1.4589 - accuracy: 0.5197 - val_loss: 2.0260 - val_accuracy: 0.2088\n",
            "Epoch 7/35\n",
            "41/41 [==============================] - 98s 2s/step - loss: 1.4216 - accuracy: 0.5498 - val_loss: 2.0199 - val_accuracy: 0.2088\n",
            "Epoch 8/35\n",
            "41/41 [==============================] - 98s 2s/step - loss: 1.2702 - accuracy: 0.5776 - val_loss: 1.9175 - val_accuracy: 0.2383\n",
            "Epoch 9/35\n",
            "41/41 [==============================] - 98s 2s/step - loss: 1.1448 - accuracy: 0.6069 - val_loss: 1.9508 - val_accuracy: 0.2383\n",
            "Epoch 10/35\n",
            "41/41 [==============================] - 98s 2s/step - loss: 1.1310 - accuracy: 0.6247 - val_loss: 2.2136 - val_accuracy: 0.3047\n",
            "Epoch 11/35\n",
            "41/41 [==============================] - 98s 2s/step - loss: 1.0280 - accuracy: 0.6463 - val_loss: 2.2423 - val_accuracy: 0.2727\n",
            "Epoch 12/35\n",
            "41/41 [==============================] - 97s 2s/step - loss: 0.9191 - accuracy: 0.6996 - val_loss: 2.4522 - val_accuracy: 0.2654\n",
            "Epoch 13/35\n",
            "41/41 [==============================] - 97s 2s/step - loss: 0.8987 - accuracy: 0.6888 - val_loss: 2.1424 - val_accuracy: 0.3268\n",
            "Epoch 14/35\n",
            "41/41 [==============================] - 97s 2s/step - loss: 0.8198 - accuracy: 0.7205 - val_loss: 1.8821 - val_accuracy: 0.3759\n",
            "Epoch 15/35\n",
            "41/41 [==============================] - 97s 2s/step - loss: 0.8093 - accuracy: 0.7174 - val_loss: 1.7418 - val_accuracy: 0.4226\n",
            "Epoch 16/35\n",
            "41/41 [==============================] - 97s 2s/step - loss: 0.6655 - accuracy: 0.7614 - val_loss: 1.8290 - val_accuracy: 0.4521\n",
            "Epoch 17/35\n",
            "41/41 [==============================] - 97s 2s/step - loss: 0.6528 - accuracy: 0.7776 - val_loss: 1.8299 - val_accuracy: 0.4496\n",
            "Epoch 18/35\n",
            "41/41 [==============================] - 97s 2s/step - loss: 0.6660 - accuracy: 0.7591 - val_loss: 1.7691 - val_accuracy: 0.5209\n",
            "Epoch 19/35\n",
            "41/41 [==============================] - 98s 2s/step - loss: 0.5990 - accuracy: 0.7954 - val_loss: 1.6720 - val_accuracy: 0.5233\n",
            "Epoch 20/35\n",
            "41/41 [==============================] - 98s 2s/step - loss: 0.5159 - accuracy: 0.8216 - val_loss: 1.7763 - val_accuracy: 0.5012\n",
            "Epoch 21/35\n",
            "41/41 [==============================] - 98s 2s/step - loss: 0.5391 - accuracy: 0.8178 - val_loss: 1.7839 - val_accuracy: 0.5332\n",
            "Epoch 22/35\n",
            "41/41 [==============================] - 98s 2s/step - loss: 0.5033 - accuracy: 0.8239 - val_loss: 1.6900 - val_accuracy: 0.5528\n",
            "Epoch 23/35\n",
            "41/41 [==============================] - 98s 2s/step - loss: 0.4508 - accuracy: 0.8386 - val_loss: 1.9137 - val_accuracy: 0.5700\n",
            "Epoch 24/35\n",
            "41/41 [==============================] - 99s 2s/step - loss: 0.4592 - accuracy: 0.8479 - val_loss: 2.0140 - val_accuracy: 0.5356\n",
            "Epoch 25/35\n",
            "41/41 [==============================] - 99s 2s/step - loss: 0.3985 - accuracy: 0.8610 - val_loss: 2.0898 - val_accuracy: 0.5135\n",
            "Epoch 26/35\n",
            "41/41 [==============================] - 99s 2s/step - loss: 0.3481 - accuracy: 0.8795 - val_loss: 2.0472 - val_accuracy: 0.5356\n",
            "Epoch 27/35\n",
            "41/41 [==============================] - 99s 2s/step - loss: 0.3771 - accuracy: 0.8587 - val_loss: 2.0572 - val_accuracy: 0.5356\n",
            "Epoch 28/35\n",
            "41/41 [==============================] - 98s 2s/step - loss: 0.3879 - accuracy: 0.8656 - val_loss: 2.4066 - val_accuracy: 0.5135\n",
            "Epoch 29/35\n",
            "41/41 [==============================] - 99s 2s/step - loss: 0.3452 - accuracy: 0.8772 - val_loss: 1.9011 - val_accuracy: 0.5651\n",
            "Epoch 30/35\n",
            "41/41 [==============================] - 98s 2s/step - loss: 0.3428 - accuracy: 0.8873 - val_loss: 2.0902 - val_accuracy: 0.5602\n",
            "Epoch 31/35\n",
            "41/41 [==============================] - 97s 2s/step - loss: 0.2663 - accuracy: 0.9081 - val_loss: 2.1755 - val_accuracy: 0.5528\n",
            "Epoch 32/35\n",
            "41/41 [==============================] - 98s 2s/step - loss: 0.2438 - accuracy: 0.9205 - val_loss: 2.1433 - val_accuracy: 0.5405\n",
            "Epoch 33/35\n",
            "41/41 [==============================] - 98s 2s/step - loss: 0.2464 - accuracy: 0.9135 - val_loss: 2.0224 - val_accuracy: 0.5528\n",
            "Epoch 34/35\n",
            "41/41 [==============================] - 98s 2s/step - loss: 0.2484 - accuracy: 0.9205 - val_loss: 2.0155 - val_accuracy: 0.5479\n",
            "Epoch 35/35\n",
            "41/41 [==============================] - 98s 2s/step - loss: 0.2441 - accuracy: 0.9174 - val_loss: 2.3198 - val_accuracy: 0.4939\n"
          ]
        }
      ]
    },
    {
      "cell_type": "code",
      "source": [
        "pred = model2.predict(X_test)\n",
        "classes_x=np.argmax(pred,axis=1)\n",
        "image_labels=np.argmax(y_test ,axis=1)\n",
        "\n",
        "print('Test Data accuracy: ', accuracy_score(image_labels, classes_x)*100)"
      ],
      "metadata": {
        "id": "YPeqi9q_xitN"
      },
      "execution_count": null,
      "outputs": []
    },
    {
      "cell_type": "code",
      "source": [
        "pred"
      ],
      "metadata": {
        "id": "H0-FYNzbdCxJ"
      },
      "execution_count": null,
      "outputs": []
    },
    {
      "cell_type": "code",
      "source": [
        "from keras.models import Model"
      ],
      "metadata": {
        "id": "ge-sz3M5yYpG"
      },
      "execution_count": null,
      "outputs": []
    },
    {
      "cell_type": "code",
      "source": [
        "middle = Model(inputs=model2.input, outputs=model2.get_layer('softmax').output)\n",
        "result = middle.predict(X_test)\n",
        "print(result.shape)"
      ],
      "metadata": {
        "id": "lHeImw7ruzok",
        "colab": {
          "base_uri": "https://localhost:8080/"
        },
        "outputId": "1f6324b0-489e-4980-9815-10ab929bf8df"
      },
      "execution_count": null,
      "outputs": [
        {
          "output_type": "stream",
          "name": "stdout",
          "text": [
            "(407, 5)\n"
          ]
        }
      ]
    },
    {
      "cell_type": "code",
      "source": [
        "import numpy as np\n",
        "a=np.array(result)\n",
        "np.save('result.npy',a)"
      ],
      "metadata": {
        "id": "Np7IOeTTyBBC"
      },
      "execution_count": null,
      "outputs": []
    },
    {
      "cell_type": "code",
      "source": [
        "b=np.load('result.npy')\n",
        "b=b.tolist()"
      ],
      "metadata": {
        "id": "Fw-PTgKOyc6X"
      },
      "execution_count": null,
      "outputs": []
    },
    {
      "cell_type": "code",
      "source": [
        "c=np.array(X_file)\n",
        "np.save('file.npy',c)"
      ],
      "metadata": {
        "id": "Pj0o1g2_dPKl"
      },
      "execution_count": null,
      "outputs": []
    },
    {
      "cell_type": "markdown",
      "source": [
        "### BERT model to extract the text feature"
      ],
      "metadata": {
        "id": "Xa5qpaVZrySv"
      }
    },
    {
      "cell_type": "code",
      "source": [
        "!pip install transformers"
      ],
      "metadata": {
        "colab": {
          "base_uri": "https://localhost:8080/"
        },
        "id": "QSZJ9AhURfvR",
        "outputId": "cc524537-64c7-4c51-c9cb-718d0dcd632f"
      },
      "execution_count": null,
      "outputs": [
        {
          "output_type": "stream",
          "name": "stdout",
          "text": [
            "Collecting transformers\n",
            "  Downloading transformers-4.18.0-py3-none-any.whl (4.0 MB)\n",
            "\u001b[K     |████████████████████████████████| 4.0 MB 4.3 MB/s \n",
            "\u001b[?25hRequirement already satisfied: importlib-metadata in /usr/local/lib/python3.7/dist-packages (from transformers) (4.11.3)\n",
            "Collecting huggingface-hub<1.0,>=0.1.0\n",
            "  Downloading huggingface_hub-0.5.1-py3-none-any.whl (77 kB)\n",
            "\u001b[K     |████████████████████████████████| 77 kB 5.1 MB/s \n",
            "\u001b[?25hRequirement already satisfied: numpy>=1.17 in /usr/local/lib/python3.7/dist-packages (from transformers) (1.21.5)\n",
            "Requirement already satisfied: regex!=2019.12.17 in /usr/local/lib/python3.7/dist-packages (from transformers) (2019.12.20)\n",
            "Collecting pyyaml>=5.1\n",
            "  Downloading PyYAML-6.0-cp37-cp37m-manylinux_2_5_x86_64.manylinux1_x86_64.manylinux_2_12_x86_64.manylinux2010_x86_64.whl (596 kB)\n",
            "\u001b[K     |████████████████████████████████| 596 kB 49.8 MB/s \n",
            "\u001b[?25hRequirement already satisfied: filelock in /usr/local/lib/python3.7/dist-packages (from transformers) (3.6.0)\n",
            "Requirement already satisfied: tqdm>=4.27 in /usr/local/lib/python3.7/dist-packages (from transformers) (4.63.0)\n",
            "Collecting tokenizers!=0.11.3,<0.13,>=0.11.1\n",
            "  Downloading tokenizers-0.11.6-cp37-cp37m-manylinux_2_12_x86_64.manylinux2010_x86_64.whl (6.5 MB)\n",
            "\u001b[K     |████████████████████████████████| 6.5 MB 33.4 MB/s \n",
            "\u001b[?25hRequirement already satisfied: packaging>=20.0 in /usr/local/lib/python3.7/dist-packages (from transformers) (21.3)\n",
            "Collecting sacremoses\n",
            "  Downloading sacremoses-0.0.49-py3-none-any.whl (895 kB)\n",
            "\u001b[K     |████████████████████████████████| 895 kB 18.3 MB/s \n",
            "\u001b[?25hRequirement already satisfied: requests in /usr/local/lib/python3.7/dist-packages (from transformers) (2.23.0)\n",
            "Requirement already satisfied: typing-extensions>=3.7.4.3 in /usr/local/lib/python3.7/dist-packages (from huggingface-hub<1.0,>=0.1.0->transformers) (3.10.0.2)\n",
            "Requirement already satisfied: pyparsing!=3.0.5,>=2.0.2 in /usr/local/lib/python3.7/dist-packages (from packaging>=20.0->transformers) (3.0.7)\n",
            "Requirement already satisfied: zipp>=0.5 in /usr/local/lib/python3.7/dist-packages (from importlib-metadata->transformers) (3.7.0)\n",
            "Requirement already satisfied: chardet<4,>=3.0.2 in /usr/local/lib/python3.7/dist-packages (from requests->transformers) (3.0.4)\n",
            "Requirement already satisfied: idna<3,>=2.5 in /usr/local/lib/python3.7/dist-packages (from requests->transformers) (2.10)\n",
            "Requirement already satisfied: urllib3!=1.25.0,!=1.25.1,<1.26,>=1.21.1 in /usr/local/lib/python3.7/dist-packages (from requests->transformers) (1.24.3)\n",
            "Requirement already satisfied: certifi>=2017.4.17 in /usr/local/lib/python3.7/dist-packages (from requests->transformers) (2021.10.8)\n",
            "Requirement already satisfied: joblib in /usr/local/lib/python3.7/dist-packages (from sacremoses->transformers) (1.1.0)\n",
            "Requirement already satisfied: click in /usr/local/lib/python3.7/dist-packages (from sacremoses->transformers) (7.1.2)\n",
            "Requirement already satisfied: six in /usr/local/lib/python3.7/dist-packages (from sacremoses->transformers) (1.15.0)\n",
            "Installing collected packages: pyyaml, tokenizers, sacremoses, huggingface-hub, transformers\n",
            "  Attempting uninstall: pyyaml\n",
            "    Found existing installation: PyYAML 3.13\n",
            "    Uninstalling PyYAML-3.13:\n",
            "      Successfully uninstalled PyYAML-3.13\n",
            "Successfully installed huggingface-hub-0.5.1 pyyaml-6.0 sacremoses-0.0.49 tokenizers-0.11.6 transformers-4.18.0\n"
          ]
        }
      ]
    },
    {
      "cell_type": "code",
      "source": [
        "import pandas as pd\n",
        "import numpy as np\n",
        "\n",
        "import os\n",
        "import tensorflow as tf\n",
        "import transformers\n",
        "\n",
        "from sklearn.model_selection import train_test_split\n",
        "from sklearn.preprocessing import LabelEncoder\n",
        "import sklearn\n",
        "from sklearn.metrics import confusion_matrix\n",
        "\n",
        "import seaborn as sns\n",
        "import matplotlib.pyplot as plt"
      ],
      "metadata": {
        "id": "sfgopaXhReAi"
      },
      "execution_count": null,
      "outputs": []
    },
    {
      "cell_type": "code",
      "source": [
        "encoder = LabelEncoder()\n",
        "df['categoryEncoded'] = encoder.fit_transform(df['label'])"
      ],
      "metadata": {
        "id": "1TvvCq8rj9DJ"
      },
      "execution_count": null,
      "outputs": []
    },
    {
      "cell_type": "code",
      "source": [
        "df['text'] = df['text'].apply(lambda text: str(text).lower())\n",
        "df['title'] = df['title'].apply(lambda title: str(title).lower())"
      ],
      "metadata": {
        "id": "QfSHgii7RaEU"
      },
      "execution_count": null,
      "outputs": []
    },
    {
      "cell_type": "code",
      "source": [
        "#calculating the length of headlines and descriptions\n",
        "df['text_len'] = df['text'].apply(lambda x: len(str(x).split()))\n",
        "df['title_len'] = df['title'].apply(lambda x: len(str(x).split()))"
      ],
      "metadata": {
        "id": "ypqqvk36R-b4"
      },
      "execution_count": null,
      "outputs": []
    },
    {
      "cell_type": "code",
      "source": [
        "df.label = df.label.map(lambda x: \"WORLDPOST\" if x == \"THE WORLDPOST\" else x)"
      ],
      "metadata": {
        "id": "RzIhIHf2SAC2"
      },
      "execution_count": null,
      "outputs": []
    },
    {
      "cell_type": "code",
      "source": [
        "df.describe()"
      ],
      "metadata": {
        "colab": {
          "base_uri": "https://localhost:8080/",
          "height": 300
        },
        "id": "fQlZaLQZSB4m",
        "outputId": "acbf09d1-9c74-4e71-ed6b-0d8da4698d13"
      },
      "execution_count": null,
      "outputs": [
        {
          "output_type": "execute_result",
          "data": {
            "text/plain": [
              "             label  categoryEncoded     text_len    title_len\n",
              "count  1619.000000      1619.000000  1619.000000  1619.000000\n",
              "mean      2.903027         1.903027   378.156887     5.245831\n",
              "std       1.444861         1.444861   247.822722     0.843853\n",
              "min       1.000000         0.000000   108.000000     1.000000\n",
              "25%       2.000000         1.000000   241.500000     5.000000\n",
              "50%       3.000000         2.000000   322.000000     5.000000\n",
              "75%       4.000000         3.000000   464.000000     6.000000\n",
              "max       5.000000         4.000000  4428.000000     9.000000"
            ],
            "text/html": [
              "\n",
              "  <div id=\"df-de2b515c-339d-43b6-8e22-7393944fa4ef\">\n",
              "    <div class=\"colab-df-container\">\n",
              "      <div>\n",
              "<style scoped>\n",
              "    .dataframe tbody tr th:only-of-type {\n",
              "        vertical-align: middle;\n",
              "    }\n",
              "\n",
              "    .dataframe tbody tr th {\n",
              "        vertical-align: top;\n",
              "    }\n",
              "\n",
              "    .dataframe thead th {\n",
              "        text-align: right;\n",
              "    }\n",
              "</style>\n",
              "<table border=\"1\" class=\"dataframe\">\n",
              "  <thead>\n",
              "    <tr style=\"text-align: right;\">\n",
              "      <th></th>\n",
              "      <th>label</th>\n",
              "      <th>categoryEncoded</th>\n",
              "      <th>text_len</th>\n",
              "      <th>title_len</th>\n",
              "    </tr>\n",
              "  </thead>\n",
              "  <tbody>\n",
              "    <tr>\n",
              "      <th>count</th>\n",
              "      <td>1619.000000</td>\n",
              "      <td>1619.000000</td>\n",
              "      <td>1619.000000</td>\n",
              "      <td>1619.000000</td>\n",
              "    </tr>\n",
              "    <tr>\n",
              "      <th>mean</th>\n",
              "      <td>2.903027</td>\n",
              "      <td>1.903027</td>\n",
              "      <td>378.156887</td>\n",
              "      <td>5.245831</td>\n",
              "    </tr>\n",
              "    <tr>\n",
              "      <th>std</th>\n",
              "      <td>1.444861</td>\n",
              "      <td>1.444861</td>\n",
              "      <td>247.822722</td>\n",
              "      <td>0.843853</td>\n",
              "    </tr>\n",
              "    <tr>\n",
              "      <th>min</th>\n",
              "      <td>1.000000</td>\n",
              "      <td>0.000000</td>\n",
              "      <td>108.000000</td>\n",
              "      <td>1.000000</td>\n",
              "    </tr>\n",
              "    <tr>\n",
              "      <th>25%</th>\n",
              "      <td>2.000000</td>\n",
              "      <td>1.000000</td>\n",
              "      <td>241.500000</td>\n",
              "      <td>5.000000</td>\n",
              "    </tr>\n",
              "    <tr>\n",
              "      <th>50%</th>\n",
              "      <td>3.000000</td>\n",
              "      <td>2.000000</td>\n",
              "      <td>322.000000</td>\n",
              "      <td>5.000000</td>\n",
              "    </tr>\n",
              "    <tr>\n",
              "      <th>75%</th>\n",
              "      <td>4.000000</td>\n",
              "      <td>3.000000</td>\n",
              "      <td>464.000000</td>\n",
              "      <td>6.000000</td>\n",
              "    </tr>\n",
              "    <tr>\n",
              "      <th>max</th>\n",
              "      <td>5.000000</td>\n",
              "      <td>4.000000</td>\n",
              "      <td>4428.000000</td>\n",
              "      <td>9.000000</td>\n",
              "    </tr>\n",
              "  </tbody>\n",
              "</table>\n",
              "</div>\n",
              "      <button class=\"colab-df-convert\" onclick=\"convertToInteractive('df-de2b515c-339d-43b6-8e22-7393944fa4ef')\"\n",
              "              title=\"Convert this dataframe to an interactive table.\"\n",
              "              style=\"display:none;\">\n",
              "        \n",
              "  <svg xmlns=\"http://www.w3.org/2000/svg\" height=\"24px\"viewBox=\"0 0 24 24\"\n",
              "       width=\"24px\">\n",
              "    <path d=\"M0 0h24v24H0V0z\" fill=\"none\"/>\n",
              "    <path d=\"M18.56 5.44l.94 2.06.94-2.06 2.06-.94-2.06-.94-.94-2.06-.94 2.06-2.06.94zm-11 1L8.5 8.5l.94-2.06 2.06-.94-2.06-.94L8.5 2.5l-.94 2.06-2.06.94zm10 10l.94 2.06.94-2.06 2.06-.94-2.06-.94-.94-2.06-.94 2.06-2.06.94z\"/><path d=\"M17.41 7.96l-1.37-1.37c-.4-.4-.92-.59-1.43-.59-.52 0-1.04.2-1.43.59L10.3 9.45l-7.72 7.72c-.78.78-.78 2.05 0 2.83L4 21.41c.39.39.9.59 1.41.59.51 0 1.02-.2 1.41-.59l7.78-7.78 2.81-2.81c.8-.78.8-2.07 0-2.86zM5.41 20L4 18.59l7.72-7.72 1.47 1.35L5.41 20z\"/>\n",
              "  </svg>\n",
              "      </button>\n",
              "      \n",
              "  <style>\n",
              "    .colab-df-container {\n",
              "      display:flex;\n",
              "      flex-wrap:wrap;\n",
              "      gap: 12px;\n",
              "    }\n",
              "\n",
              "    .colab-df-convert {\n",
              "      background-color: #E8F0FE;\n",
              "      border: none;\n",
              "      border-radius: 50%;\n",
              "      cursor: pointer;\n",
              "      display: none;\n",
              "      fill: #1967D2;\n",
              "      height: 32px;\n",
              "      padding: 0 0 0 0;\n",
              "      width: 32px;\n",
              "    }\n",
              "\n",
              "    .colab-df-convert:hover {\n",
              "      background-color: #E2EBFA;\n",
              "      box-shadow: 0px 1px 2px rgba(60, 64, 67, 0.3), 0px 1px 3px 1px rgba(60, 64, 67, 0.15);\n",
              "      fill: #174EA6;\n",
              "    }\n",
              "\n",
              "    [theme=dark] .colab-df-convert {\n",
              "      background-color: #3B4455;\n",
              "      fill: #D2E3FC;\n",
              "    }\n",
              "\n",
              "    [theme=dark] .colab-df-convert:hover {\n",
              "      background-color: #434B5C;\n",
              "      box-shadow: 0px 1px 3px 1px rgba(0, 0, 0, 0.15);\n",
              "      filter: drop-shadow(0px 1px 2px rgba(0, 0, 0, 0.3));\n",
              "      fill: #FFFFFF;\n",
              "    }\n",
              "  </style>\n",
              "\n",
              "      <script>\n",
              "        const buttonEl =\n",
              "          document.querySelector('#df-de2b515c-339d-43b6-8e22-7393944fa4ef button.colab-df-convert');\n",
              "        buttonEl.style.display =\n",
              "          google.colab.kernel.accessAllowed ? 'block' : 'none';\n",
              "\n",
              "        async function convertToInteractive(key) {\n",
              "          const element = document.querySelector('#df-de2b515c-339d-43b6-8e22-7393944fa4ef');\n",
              "          const dataTable =\n",
              "            await google.colab.kernel.invokeFunction('convertToInteractive',\n",
              "                                                     [key], {});\n",
              "          if (!dataTable) return;\n",
              "\n",
              "          const docLinkHtml = 'Like what you see? Visit the ' +\n",
              "            '<a target=\"_blank\" href=https://colab.research.google.com/notebooks/data_table.ipynb>data table notebook</a>'\n",
              "            + ' to learn more about interactive tables.';\n",
              "          element.innerHTML = '';\n",
              "          dataTable['output_type'] = 'display_data';\n",
              "          await google.colab.output.renderOutput(dataTable, element);\n",
              "          const docLink = document.createElement('div');\n",
              "          docLink.innerHTML = docLinkHtml;\n",
              "          element.appendChild(docLink);\n",
              "        }\n",
              "      </script>\n",
              "    </div>\n",
              "  </div>\n",
              "  "
            ]
          },
          "metadata": {},
          "execution_count": 63
        }
      ]
    },
    {
      "cell_type": "code",
      "source": [
        "def regular_encode(texts, tokenizer, maxlen=512):\n",
        "    enc_di = tokenizer.batch_encode_plus(\n",
        "        texts,  \n",
        "        return_token_type_ids=False,\n",
        "        pad_to_max_length=True,\n",
        "        max_length=maxlen\n",
        "    )\n",
        "    \n",
        "    return np.array(enc_di['input_ids'])"
      ],
      "metadata": {
        "id": "qS9n7ZonSD8i"
      },
      "execution_count": null,
      "outputs": []
    },
    {
      "cell_type": "code",
      "source": [
        "tokenizer = transformers.BertTokenizer.from_pretrained('bert-large-uncased')"
      ],
      "metadata": {
        "colab": {
          "base_uri": "https://localhost:8080/",
          "height": 113,
          "referenced_widgets": [
            "607a34cedcdf4320b3981fe21208b8f4",
            "81df3ec9e5dd4e6093ab0df7f5ebf7fd",
            "9264c71e409141d7b4226799011064d6",
            "c9748c238fdc44dda45937948515dd4b",
            "dab1648fa67942b69bfb14dcc2f8d8bf",
            "139dd7e06f0a4eba83e5ec60f9a99722",
            "c00adbe551f24efda88c5ac105f1417a",
            "9df707bda846449d85633c8011d62511",
            "15e0cd33595444078c9b0d28e4a9b707",
            "36693a38ba0f4e179bf278f8c6814785",
            "db09855c616242afbd0996dae6056a02",
            "e1f80f00be9f4e40ba418669ecd5694c",
            "77476e96c54b44eeb125e1bf8076c556",
            "1fc0f40a46fb443190a324c90b81abfe",
            "b9efd72a1b264e228553f31542dd04a6",
            "ca34e7619b624a8eb1dfac518159c441",
            "686cab1447834e2a908c1d38f4bae6a5",
            "1ca806c0e9954f87a9949380b712c0b8",
            "de9388149513421688d45eebc2181f76",
            "ba0103bb839b4e4ebf76b42c9b86eb9d",
            "f7c3169b6d024c18b796d2660730afe7",
            "32823399f12044d3b65b8e058f3e000e",
            "f703e7ac020c405d86b1afa727c1f36a",
            "1e951c5975484115b656a9f296575a05",
            "1ae785aab09d4c50ac2cc61df5e52d7f",
            "520988fd695d40548907da9113ed818c",
            "5385b407449e49c6aa11fce661702f11",
            "e444bae578b4415ea07db10d960423f9",
            "a1a6001ff19e4e22a1fa9dbc838a9de8",
            "181ef1fbbae048d9a44e7b5e0d3be6f5",
            "62c82bfecd6f4f5785cf9db706a57f23",
            "27556a613a7449c29b4ba74a4b377a33",
            "e37b7b21344e4613922dbd12792427fb"
          ]
        },
        "id": "XGY8TI4OSGh0",
        "outputId": "43372ea3-90b3-4c13-9dfe-49198dcc782f"
      },
      "execution_count": null,
      "outputs": [
        {
          "output_type": "display_data",
          "data": {
            "text/plain": [
              "Downloading:   0%|          | 0.00/226k [00:00<?, ?B/s]"
            ],
            "application/vnd.jupyter.widget-view+json": {
              "version_major": 2,
              "version_minor": 0,
              "model_id": "607a34cedcdf4320b3981fe21208b8f4"
            }
          },
          "metadata": {}
        },
        {
          "output_type": "display_data",
          "data": {
            "text/plain": [
              "Downloading:   0%|          | 0.00/28.0 [00:00<?, ?B/s]"
            ],
            "application/vnd.jupyter.widget-view+json": {
              "version_major": 2,
              "version_minor": 0,
              "model_id": "e1f80f00be9f4e40ba418669ecd5694c"
            }
          },
          "metadata": {}
        },
        {
          "output_type": "display_data",
          "data": {
            "text/plain": [
              "Downloading:   0%|          | 0.00/571 [00:00<?, ?B/s]"
            ],
            "application/vnd.jupyter.widget-view+json": {
              "version_major": 2,
              "version_minor": 0,
              "model_id": "f703e7ac020c405d86b1afa727c1f36a"
            }
          },
          "metadata": {}
        }
      ]
    },
    {
      "cell_type": "code",
      "source": [
        "X_train,y_train = df['title'], df['categoryEncoded']"
      ],
      "metadata": {
        "id": "8LH8wscRSIX3"
      },
      "execution_count": null,
      "outputs": []
    },
    {
      "cell_type": "code",
      "source": [
        "X_train.astype('str')"
      ],
      "metadata": {
        "colab": {
          "base_uri": "https://localhost:8080/"
        },
        "id": "780WLolLSKo4",
        "outputId": "6b20e73b-1cce-4cb3-b8a1-b4c875316905"
      },
      "execution_count": null,
      "outputs": [
        {
          "output_type": "execute_result",
          "data": {
            "text/plain": [
              "0             kennedy to make temple address\n",
              "1           retirement age could be scrapped\n",
              "2           ruddock backs yapp's credentials\n",
              "3          radcliffe enjoys winning comeback\n",
              "4          baa support ahead of court battle\n",
              "                        ...                 \n",
              "1614        bmw to recall faulty diesel cars\n",
              "1615             henman hopes ended in dubai\n",
              "1616       broadband fuels online expression\n",
              "1617    brown and blair face new rift claims\n",
              "1618       richard and judy choose top books\n",
              "Name: title, Length: 1619, dtype: object"
            ]
          },
          "metadata": {},
          "execution_count": 67
        }
      ]
    },
    {
      "cell_type": "code",
      "source": [
        "Xtrain_encoded = regular_encode(X_train.astype('str'), tokenizer, maxlen=10)\n",
        "ytrain_encoded = tf.keras.utils.to_categorical(y_train, num_classes=5, dtype = 'int32')"
      ],
      "metadata": {
        "colab": {
          "base_uri": "https://localhost:8080/"
        },
        "id": "Vk5ugaudSL8L",
        "outputId": "db2c8d5f-5c0f-4b4a-fd29-9a9216848be0"
      },
      "execution_count": null,
      "outputs": [
        {
          "output_type": "stream",
          "name": "stderr",
          "text": [
            "Truncation was not explicitly activated but `max_length` is provided a specific value, please use `truncation=True` to explicitly truncate examples to max length. Defaulting to 'longest_first' truncation strategy. If you encode pairs of sequences (GLUE-style) with the tokenizer you can select this strategy more precisely by providing a specific strategy to `truncation`.\n"
          ]
        }
      ]
    },
    {
      "cell_type": "code",
      "source": [
        "def build_model(transformer, loss='categorical_crossentropy', max_len=512):\n",
        "    input_word_ids = tf.keras.layers.Input(shape=(max_len,), dtype=tf.int32, name=\"input_word_ids\")\n",
        "    sequence_output = transformer(input_word_ids)[0]\n",
        "    cls_token = sequence_output[:, 0, :]\n",
        "    x = tf.keras.layers.Dropout(0.3)(cls_token) \n",
        "    out = tf.keras.layers.Dense(5, activation='softmax',name = 'softmax1')(x)\n",
        "    model = tf.keras.Model(inputs=input_word_ids, outputs=out)\n",
        "    model.compile(tf.keras.optimizers.Adam(lr=3e-5), loss=loss, metrics=['accuracy'])\n",
        "    return model"
      ],
      "metadata": {
        "id": "Z8g8WO7QSOY1"
      },
      "execution_count": null,
      "outputs": []
    },
    {
      "cell_type": "code",
      "source": [
        "# Detect hardware, return appropriate distribution strategy\n",
        "try:\n",
        "    tpu = tf.distribute.cluster_resolver.TPUClusterResolver()\n",
        "    print('Running on TPU ', tpu.master())\n",
        "except ValueError:\n",
        "    tpu = None\n",
        "\n",
        "if tpu:\n",
        "    tf.config.experimental_connect_to_cluster(tpu)\n",
        "    tf.tpu.experimental.initialize_tpu_system(tpu)\n",
        "    strategy = tf.distribute.experimental.TPUStrategy(tpu)\n",
        "else:\n",
        "    # Default distribution strategy in Tensorflow. Works on CPU and single GPU.\n",
        "    strategy = tf.distribute.get_strategy()\n",
        "\n",
        "print(\"REPLICAS: \", strategy.num_replicas_in_sync)"
      ],
      "metadata": {
        "colab": {
          "base_uri": "https://localhost:8080/"
        },
        "id": "BvpO6eJqScp1",
        "outputId": "da660aac-eef5-4f42-83ba-3767f477450b"
      },
      "execution_count": null,
      "outputs": [
        {
          "output_type": "stream",
          "name": "stdout",
          "text": [
            "REPLICAS:  1\n"
          ]
        }
      ]
    },
    {
      "cell_type": "code",
      "source": [
        "#building the model on tpu\n",
        "with strategy.scope():\n",
        "    transformer_layer = transformers.TFAutoModel.from_pretrained('bert-large-uncased')\n",
        "    model = build_model(transformer_layer, max_len=10)\n",
        "model.summary()"
      ],
      "metadata": {
        "colab": {
          "base_uri": "https://localhost:8080/",
          "height": 676,
          "referenced_widgets": [
            "4c996448fef346188b3dd9b5f172658a",
            "46555646ec434bf6ba8193a35ee34f73",
            "28312d14d588480f9ac41c757f10822b",
            "40d4063a3f9d414d99ecae7e196236db",
            "9e223f2dd86442289edbcd06bb7c087c",
            "55eeaff1fbab48e7aef77e3baa049e15",
            "1f251db3b85c4f03b475df2fb4155bd1",
            "5a1e83334ceb4558a3a64cf047e64773",
            "96c4a9e044874921a8ebc18cd403882c",
            "38eb4b8e221840c29fac10e5b9c3bec8",
            "d64eba36d4404f4e9bd7a60a04c90b6c"
          ]
        },
        "id": "0xn59oetSUP_",
        "outputId": "96c4291c-8877-4529-b13f-091d23147804"
      },
      "execution_count": null,
      "outputs": [
        {
          "output_type": "display_data",
          "data": {
            "text/plain": [
              "Downloading:   0%|          | 0.00/1.37G [00:00<?, ?B/s]"
            ],
            "application/vnd.jupyter.widget-view+json": {
              "version_major": 2,
              "version_minor": 0,
              "model_id": "4c996448fef346188b3dd9b5f172658a"
            }
          },
          "metadata": {}
        },
        {
          "output_type": "stream",
          "name": "stderr",
          "text": [
            "Some layers from the model checkpoint at bert-large-uncased were not used when initializing TFBertModel: ['mlm___cls', 'nsp___cls']\n",
            "- This IS expected if you are initializing TFBertModel from the checkpoint of a model trained on another task or with another architecture (e.g. initializing a BertForSequenceClassification model from a BertForPreTraining model).\n",
            "- This IS NOT expected if you are initializing TFBertModel from the checkpoint of a model that you expect to be exactly identical (initializing a BertForSequenceClassification model from a BertForSequenceClassification model).\n",
            "All the layers of TFBertModel were initialized from the model checkpoint at bert-large-uncased.\n",
            "If your task is similar to the task the model of the checkpoint was trained on, you can already use TFBertModel for predictions without further training.\n"
          ]
        },
        {
          "output_type": "stream",
          "name": "stdout",
          "text": [
            "Model: \"model_1\"\n",
            "_________________________________________________________________\n",
            " Layer (type)                Output Shape              Param #   \n",
            "=================================================================\n",
            " input_word_ids (InputLayer)  [(None, 10)]             0         \n",
            "                                                                 \n",
            " tf_bert_model (TFBertModel)  TFBaseModelOutputWithPoo  335141888\n",
            "                             lingAndCrossAttentions(l            \n",
            "                             ast_hidden_state=(None,             \n",
            "                             10, 1024),                          \n",
            "                              pooler_output=(None, 10            \n",
            "                             24),                                \n",
            "                              past_key_values=None, h            \n",
            "                             idden_states=None, atten            \n",
            "                             tions=None, cross_attent            \n",
            "                             ions=None)                          \n",
            "                                                                 \n",
            " tf.__operators__.getitem (S  (None, 1024)             0         \n",
            " licingOpLambda)                                                 \n",
            "                                                                 \n",
            " dropout_74 (Dropout)        (None, 1024)              0         \n",
            "                                                                 \n",
            " softmax1 (Dense)            (None, 5)                 5125      \n",
            "                                                                 \n",
            "=================================================================\n",
            "Total params: 335,147,013\n",
            "Trainable params: 335,147,013\n",
            "Non-trainable params: 0\n",
            "_________________________________________________________________\n"
          ]
        }
      ]
    },
    {
      "cell_type": "code",
      "source": [
        "BATCH_SIZE = 32*strategy.num_replicas_in_sync\n",
        "AUTO = tf.data.experimental.AUTOTUNE \n",
        "train_dataset = (\n",
        "    tf.data.Dataset\n",
        "    .from_tensor_slices((Xtrain_encoded, ytrain_encoded))\n",
        "    .repeat()\n",
        "    .shuffle(2048)\n",
        "    .batch(BATCH_SIZE)\n",
        "    .prefetch(AUTO)\n",
        ")"
      ],
      "metadata": {
        "id": "iqHltkIKSVuI"
      },
      "execution_count": null,
      "outputs": []
    },
    {
      "cell_type": "code",
      "source": [
        "n_steps = Xtrain_encoded.shape[0] // BATCH_SIZE\n",
        "train_history = model.fit(\n",
        "    train_dataset,\n",
        "    steps_per_epoch=n_steps,\n",
        "    epochs=10\n",
        ")"
      ],
      "metadata": {
        "colab": {
          "base_uri": "https://localhost:8080/"
        },
        "id": "ajo72lROSxYz",
        "outputId": "5212ef69-a229-4947-a6a5-7186abbe22fe"
      },
      "execution_count": null,
      "outputs": [
        {
          "output_type": "stream",
          "name": "stdout",
          "text": [
            "Epoch 1/10\n",
            "WARNING:tensorflow:Gradients do not exist for variables ['tf_bert_model/bert/pooler/dense/kernel:0', 'tf_bert_model/bert/pooler/dense/bias:0'] when minimizing the loss. If you're using `model.compile()`, did you forget to provide a `loss`argument?\n",
            "WARNING:tensorflow:Gradients do not exist for variables ['tf_bert_model/bert/pooler/dense/kernel:0', 'tf_bert_model/bert/pooler/dense/bias:0'] when minimizing the loss. If you're using `model.compile()`, did you forget to provide a `loss`argument?\n",
            "50/50 [==============================] - 858s 16s/step - loss: 0.8584 - accuracy: 0.6819\n",
            "Epoch 2/10\n",
            "50/50 [==============================] - 717s 14s/step - loss: 0.2683 - accuracy: 0.9231\n",
            "Epoch 3/10\n",
            "50/50 [==============================] - 783s 16s/step - loss: 0.1018 - accuracy: 0.9694\n",
            "Epoch 4/10\n",
            "50/50 [==============================] - 724s 14s/step - loss: 0.0819 - accuracy: 0.9769\n",
            "Epoch 5/10\n",
            "50/50 [==============================] - 719s 14s/step - loss: 0.0810 - accuracy: 0.9737\n",
            "Epoch 6/10\n",
            "50/50 [==============================] - 735s 15s/step - loss: 0.0293 - accuracy: 0.9912\n",
            "Epoch 7/10\n",
            "50/50 [==============================] - 734s 15s/step - loss: 0.0160 - accuracy: 0.9956\n",
            "Epoch 8/10\n",
            "50/50 [==============================] - 719s 14s/step - loss: 0.0143 - accuracy: 0.9981\n",
            "Epoch 9/10\n",
            "50/50 [==============================] - 717s 14s/step - loss: 0.0092 - accuracy: 0.9975\n",
            "Epoch 10/10\n",
            "50/50 [==============================] - 721s 14s/step - loss: 0.0035 - accuracy: 0.9994\n"
          ]
        }
      ]
    },
    {
      "cell_type": "code",
      "source": [
        "Path = \"/content/drive/MyDrive/capstone/dataset/test/text\"\n",
        "directory = []\n",
        "file = []\n",
        "title = []\n",
        "text = []\n",
        "label = []\n",
        "for dirname, _ , filenames in os.walk(Path):\n",
        "    try:\n",
        "        filenames.remove('README.TXT')\n",
        "    except:\n",
        "        pass\n",
        "    for filename in filenames:\n",
        "      if filename[0:4] in image_file:\n",
        "        directory.append(dirname)\n",
        "        file.append(filename)\n",
        "        fullpathfile = os.path.join(dirname,filename)\n",
        "        with open(fullpathfile, 'r', encoding=\"utf8\", errors='ignore') as infile:\n",
        "            intext = ''\n",
        "            firstline = True\n",
        "            for line in infile:\n",
        "                if firstline:\n",
        "                    title.append(line.replace('\\n',''))\n",
        "                    firstline = False\n",
        "                else:\n",
        "                    intext = intext + ' ' + line.replace('\\n','')\n",
        "            text.append(intext)\n",
        "label = []\n",
        "for i in file:\n",
        "  label.append((int)(i[0]))\n"
      ],
      "metadata": {
        "id": "dWXgkqW7SzeV"
      },
      "execution_count": null,
      "outputs": []
    },
    {
      "cell_type": "code",
      "source": [
        "DATA_COLUMN = 'title'\n",
        "LABEL_COLUMN = 'label'\n",
        "\n",
        "fulldf = pd.DataFrame(list(zip(directory, file, title, text, label)), \n",
        "               columns =['directory', 'file', 'title', 'text', 'label'])\n",
        "\n",
        "df = fulldf.filter(['title','text','label'], axis=1)\n",
        "df.head()"
      ],
      "metadata": {
        "colab": {
          "base_uri": "https://localhost:8080/",
          "height": 206
        },
        "id": "0_AwgDR2T9-D",
        "outputId": "fd9eda11-a487-46c9-8e38-fbc250e8ef5a"
      },
      "execution_count": null,
      "outputs": [
        {
          "output_type": "execute_result",
          "data": {
            "text/plain": [
              "                              title  \\\n",
              "0  MCI shares climb on takeover bid   \n",
              "1  Veteran Martinez wins Thai title   \n",
              "2      Players sought for $1m prize   \n",
              "3   Teens 'know little' of politics   \n",
              "4  Strike threat over pension plans   \n",
              "\n",
              "                                                text  label  \n",
              "0    Shares in US phone company MCI have risen on...      1  \n",
              "1    Conchita Martinez won her first title in alm...      4  \n",
              "2    UK gamers are getting a chance to take part ...      5  \n",
              "3    Teenagers questioned for a survey have shown...      3  \n",
              "4    Millions of public service workers could str...      3  "
            ],
            "text/html": [
              "\n",
              "  <div id=\"df-8cdacf82-e737-4226-b21c-a8aad2667856\">\n",
              "    <div class=\"colab-df-container\">\n",
              "      <div>\n",
              "<style scoped>\n",
              "    .dataframe tbody tr th:only-of-type {\n",
              "        vertical-align: middle;\n",
              "    }\n",
              "\n",
              "    .dataframe tbody tr th {\n",
              "        vertical-align: top;\n",
              "    }\n",
              "\n",
              "    .dataframe thead th {\n",
              "        text-align: right;\n",
              "    }\n",
              "</style>\n",
              "<table border=\"1\" class=\"dataframe\">\n",
              "  <thead>\n",
              "    <tr style=\"text-align: right;\">\n",
              "      <th></th>\n",
              "      <th>title</th>\n",
              "      <th>text</th>\n",
              "      <th>label</th>\n",
              "    </tr>\n",
              "  </thead>\n",
              "  <tbody>\n",
              "    <tr>\n",
              "      <th>0</th>\n",
              "      <td>MCI shares climb on takeover bid</td>\n",
              "      <td>Shares in US phone company MCI have risen on...</td>\n",
              "      <td>1</td>\n",
              "    </tr>\n",
              "    <tr>\n",
              "      <th>1</th>\n",
              "      <td>Veteran Martinez wins Thai title</td>\n",
              "      <td>Conchita Martinez won her first title in alm...</td>\n",
              "      <td>4</td>\n",
              "    </tr>\n",
              "    <tr>\n",
              "      <th>2</th>\n",
              "      <td>Players sought for $1m prize</td>\n",
              "      <td>UK gamers are getting a chance to take part ...</td>\n",
              "      <td>5</td>\n",
              "    </tr>\n",
              "    <tr>\n",
              "      <th>3</th>\n",
              "      <td>Teens 'know little' of politics</td>\n",
              "      <td>Teenagers questioned for a survey have shown...</td>\n",
              "      <td>3</td>\n",
              "    </tr>\n",
              "    <tr>\n",
              "      <th>4</th>\n",
              "      <td>Strike threat over pension plans</td>\n",
              "      <td>Millions of public service workers could str...</td>\n",
              "      <td>3</td>\n",
              "    </tr>\n",
              "  </tbody>\n",
              "</table>\n",
              "</div>\n",
              "      <button class=\"colab-df-convert\" onclick=\"convertToInteractive('df-8cdacf82-e737-4226-b21c-a8aad2667856')\"\n",
              "              title=\"Convert this dataframe to an interactive table.\"\n",
              "              style=\"display:none;\">\n",
              "        \n",
              "  <svg xmlns=\"http://www.w3.org/2000/svg\" height=\"24px\"viewBox=\"0 0 24 24\"\n",
              "       width=\"24px\">\n",
              "    <path d=\"M0 0h24v24H0V0z\" fill=\"none\"/>\n",
              "    <path d=\"M18.56 5.44l.94 2.06.94-2.06 2.06-.94-2.06-.94-.94-2.06-.94 2.06-2.06.94zm-11 1L8.5 8.5l.94-2.06 2.06-.94-2.06-.94L8.5 2.5l-.94 2.06-2.06.94zm10 10l.94 2.06.94-2.06 2.06-.94-2.06-.94-.94-2.06-.94 2.06-2.06.94z\"/><path d=\"M17.41 7.96l-1.37-1.37c-.4-.4-.92-.59-1.43-.59-.52 0-1.04.2-1.43.59L10.3 9.45l-7.72 7.72c-.78.78-.78 2.05 0 2.83L4 21.41c.39.39.9.59 1.41.59.51 0 1.02-.2 1.41-.59l7.78-7.78 2.81-2.81c.8-.78.8-2.07 0-2.86zM5.41 20L4 18.59l7.72-7.72 1.47 1.35L5.41 20z\"/>\n",
              "  </svg>\n",
              "      </button>\n",
              "      \n",
              "  <style>\n",
              "    .colab-df-container {\n",
              "      display:flex;\n",
              "      flex-wrap:wrap;\n",
              "      gap: 12px;\n",
              "    }\n",
              "\n",
              "    .colab-df-convert {\n",
              "      background-color: #E8F0FE;\n",
              "      border: none;\n",
              "      border-radius: 50%;\n",
              "      cursor: pointer;\n",
              "      display: none;\n",
              "      fill: #1967D2;\n",
              "      height: 32px;\n",
              "      padding: 0 0 0 0;\n",
              "      width: 32px;\n",
              "    }\n",
              "\n",
              "    .colab-df-convert:hover {\n",
              "      background-color: #E2EBFA;\n",
              "      box-shadow: 0px 1px 2px rgba(60, 64, 67, 0.3), 0px 1px 3px 1px rgba(60, 64, 67, 0.15);\n",
              "      fill: #174EA6;\n",
              "    }\n",
              "\n",
              "    [theme=dark] .colab-df-convert {\n",
              "      background-color: #3B4455;\n",
              "      fill: #D2E3FC;\n",
              "    }\n",
              "\n",
              "    [theme=dark] .colab-df-convert:hover {\n",
              "      background-color: #434B5C;\n",
              "      box-shadow: 0px 1px 3px 1px rgba(0, 0, 0, 0.15);\n",
              "      filter: drop-shadow(0px 1px 2px rgba(0, 0, 0, 0.3));\n",
              "      fill: #FFFFFF;\n",
              "    }\n",
              "  </style>\n",
              "\n",
              "      <script>\n",
              "        const buttonEl =\n",
              "          document.querySelector('#df-8cdacf82-e737-4226-b21c-a8aad2667856 button.colab-df-convert');\n",
              "        buttonEl.style.display =\n",
              "          google.colab.kernel.accessAllowed ? 'block' : 'none';\n",
              "\n",
              "        async function convertToInteractive(key) {\n",
              "          const element = document.querySelector('#df-8cdacf82-e737-4226-b21c-a8aad2667856');\n",
              "          const dataTable =\n",
              "            await google.colab.kernel.invokeFunction('convertToInteractive',\n",
              "                                                     [key], {});\n",
              "          if (!dataTable) return;\n",
              "\n",
              "          const docLinkHtml = 'Like what you see? Visit the ' +\n",
              "            '<a target=\"_blank\" href=https://colab.research.google.com/notebooks/data_table.ipynb>data table notebook</a>'\n",
              "            + ' to learn more about interactive tables.';\n",
              "          element.innerHTML = '';\n",
              "          dataTable['output_type'] = 'display_data';\n",
              "          await google.colab.output.renderOutput(dataTable, element);\n",
              "          const docLink = document.createElement('div');\n",
              "          docLink.innerHTML = docLinkHtml;\n",
              "          element.appendChild(docLink);\n",
              "        }\n",
              "      </script>\n",
              "    </div>\n",
              "  </div>\n",
              "  "
            ]
          },
          "metadata": {},
          "execution_count": 87
        }
      ]
    },
    {
      "cell_type": "code",
      "source": [
        "encoder = LabelEncoder()\n",
        "df['categoryEncoded'] = encoder.fit_transform(df['label'])"
      ],
      "metadata": {
        "id": "jJQqkcz3UAx9"
      },
      "execution_count": null,
      "outputs": []
    },
    {
      "cell_type": "code",
      "source": [
        "df['text'] = df['text'].apply(lambda text: str(text).lower())\n",
        "df['title'] = df['title'].apply(lambda title: str(title).lower())"
      ],
      "metadata": {
        "id": "6V2lYmrJUCSt"
      },
      "execution_count": null,
      "outputs": []
    },
    {
      "cell_type": "code",
      "source": [
        "X_test,y_test = df['title'], df['categoryEncoded']"
      ],
      "metadata": {
        "id": "kjsqiB6rUDtV"
      },
      "execution_count": null,
      "outputs": []
    },
    {
      "cell_type": "code",
      "source": [
        "Xtest_encoded = regular_encode(X_test.astype('str'), tokenizer, maxlen=10)\n",
        "ytest_encoded = tf.keras.utils.to_categorical(y_test, num_classes=5, dtype = 'int32')"
      ],
      "metadata": {
        "id": "sH0IuQ12UE6J"
      },
      "execution_count": null,
      "outputs": []
    },
    {
      "cell_type": "code",
      "source": [
        "test_dataset = (\n",
        "    tf.data.Dataset\n",
        "    .from_tensor_slices(Xtest_encoded)\n",
        "    .batch(BATCH_SIZE)\n",
        ")"
      ],
      "metadata": {
        "id": "pRxW66gmUGZu"
      },
      "execution_count": null,
      "outputs": []
    },
    {
      "cell_type": "code",
      "source": [
        "preds = model.predict(test_dataset,verbose = 1)\n",
        "pred_classes = np.argmax(preds, axis = 1)"
      ],
      "metadata": {
        "colab": {
          "base_uri": "https://localhost:8080/"
        },
        "id": "1tvAUsslUHs7",
        "outputId": "f88e9370-b0ea-4bce-b609-37357a4f60bd"
      },
      "execution_count": null,
      "outputs": [
        {
          "output_type": "stream",
          "name": "stdout",
          "text": [
            "13/13 [==============================] - 51s 4s/step\n"
          ]
        }
      ]
    },
    {
      "cell_type": "code",
      "source": [
        "encoded_classes = encoder.classes_\n",
        "predicted_category = [encoded_classes[x] for x in pred_classes]\n",
        "true_category = [encoded_classes[x] for x in y_test]"
      ],
      "metadata": {
        "id": "DwbAtHXgUJcq"
      },
      "execution_count": null,
      "outputs": []
    },
    {
      "cell_type": "code",
      "source": [
        "middle = Model(inputs=model.input, outputs=model.get_layer('softmax1').output)\n",
        "result = middle.predict(test_dataset)\n",
        "print(result.shape)"
      ],
      "metadata": {
        "colab": {
          "base_uri": "https://localhost:8080/"
        },
        "id": "SARB84xnUMY6",
        "outputId": "d6e73f83-c929-4a40-d7f9-842d78d3a321"
      },
      "execution_count": null,
      "outputs": [
        {
          "output_type": "stream",
          "name": "stdout",
          "text": [
            "(407, 5)\n"
          ]
        }
      ]
    },
    {
      "cell_type": "code",
      "source": [
        "result_df = pd.DataFrame({'description':X_test,'true_category':true_category, 'predicted_category':predicted_category})\n",
        "result_df.head()"
      ],
      "metadata": {
        "colab": {
          "base_uri": "https://localhost:8080/",
          "height": 206
        },
        "id": "sTEvzqqmiRK1",
        "outputId": "d42118b0-7ffb-410d-cd67-78e1c782f50f"
      },
      "execution_count": null,
      "outputs": [
        {
          "output_type": "execute_result",
          "data": {
            "text/plain": [
              "                        description  true_category  predicted_category\n",
              "0  mci shares climb on takeover bid              1                   1\n",
              "1  veteran martinez wins thai title              4                   4\n",
              "2      players sought for $1m prize              5                   4\n",
              "3   teens 'know little' of politics              3                   3\n",
              "4  strike threat over pension plans              3                   3"
            ],
            "text/html": [
              "\n",
              "  <div id=\"df-da389b27-c439-4760-a637-43b7f9f5a2ba\">\n",
              "    <div class=\"colab-df-container\">\n",
              "      <div>\n",
              "<style scoped>\n",
              "    .dataframe tbody tr th:only-of-type {\n",
              "        vertical-align: middle;\n",
              "    }\n",
              "\n",
              "    .dataframe tbody tr th {\n",
              "        vertical-align: top;\n",
              "    }\n",
              "\n",
              "    .dataframe thead th {\n",
              "        text-align: right;\n",
              "    }\n",
              "</style>\n",
              "<table border=\"1\" class=\"dataframe\">\n",
              "  <thead>\n",
              "    <tr style=\"text-align: right;\">\n",
              "      <th></th>\n",
              "      <th>description</th>\n",
              "      <th>true_category</th>\n",
              "      <th>predicted_category</th>\n",
              "    </tr>\n",
              "  </thead>\n",
              "  <tbody>\n",
              "    <tr>\n",
              "      <th>0</th>\n",
              "      <td>mci shares climb on takeover bid</td>\n",
              "      <td>1</td>\n",
              "      <td>1</td>\n",
              "    </tr>\n",
              "    <tr>\n",
              "      <th>1</th>\n",
              "      <td>veteran martinez wins thai title</td>\n",
              "      <td>4</td>\n",
              "      <td>4</td>\n",
              "    </tr>\n",
              "    <tr>\n",
              "      <th>2</th>\n",
              "      <td>players sought for $1m prize</td>\n",
              "      <td>5</td>\n",
              "      <td>4</td>\n",
              "    </tr>\n",
              "    <tr>\n",
              "      <th>3</th>\n",
              "      <td>teens 'know little' of politics</td>\n",
              "      <td>3</td>\n",
              "      <td>3</td>\n",
              "    </tr>\n",
              "    <tr>\n",
              "      <th>4</th>\n",
              "      <td>strike threat over pension plans</td>\n",
              "      <td>3</td>\n",
              "      <td>3</td>\n",
              "    </tr>\n",
              "  </tbody>\n",
              "</table>\n",
              "</div>\n",
              "      <button class=\"colab-df-convert\" onclick=\"convertToInteractive('df-da389b27-c439-4760-a637-43b7f9f5a2ba')\"\n",
              "              title=\"Convert this dataframe to an interactive table.\"\n",
              "              style=\"display:none;\">\n",
              "        \n",
              "  <svg xmlns=\"http://www.w3.org/2000/svg\" height=\"24px\"viewBox=\"0 0 24 24\"\n",
              "       width=\"24px\">\n",
              "    <path d=\"M0 0h24v24H0V0z\" fill=\"none\"/>\n",
              "    <path d=\"M18.56 5.44l.94 2.06.94-2.06 2.06-.94-2.06-.94-.94-2.06-.94 2.06-2.06.94zm-11 1L8.5 8.5l.94-2.06 2.06-.94-2.06-.94L8.5 2.5l-.94 2.06-2.06.94zm10 10l.94 2.06.94-2.06 2.06-.94-2.06-.94-.94-2.06-.94 2.06-2.06.94z\"/><path d=\"M17.41 7.96l-1.37-1.37c-.4-.4-.92-.59-1.43-.59-.52 0-1.04.2-1.43.59L10.3 9.45l-7.72 7.72c-.78.78-.78 2.05 0 2.83L4 21.41c.39.39.9.59 1.41.59.51 0 1.02-.2 1.41-.59l7.78-7.78 2.81-2.81c.8-.78.8-2.07 0-2.86zM5.41 20L4 18.59l7.72-7.72 1.47 1.35L5.41 20z\"/>\n",
              "  </svg>\n",
              "      </button>\n",
              "      \n",
              "  <style>\n",
              "    .colab-df-container {\n",
              "      display:flex;\n",
              "      flex-wrap:wrap;\n",
              "      gap: 12px;\n",
              "    }\n",
              "\n",
              "    .colab-df-convert {\n",
              "      background-color: #E8F0FE;\n",
              "      border: none;\n",
              "      border-radius: 50%;\n",
              "      cursor: pointer;\n",
              "      display: none;\n",
              "      fill: #1967D2;\n",
              "      height: 32px;\n",
              "      padding: 0 0 0 0;\n",
              "      width: 32px;\n",
              "    }\n",
              "\n",
              "    .colab-df-convert:hover {\n",
              "      background-color: #E2EBFA;\n",
              "      box-shadow: 0px 1px 2px rgba(60, 64, 67, 0.3), 0px 1px 3px 1px rgba(60, 64, 67, 0.15);\n",
              "      fill: #174EA6;\n",
              "    }\n",
              "\n",
              "    [theme=dark] .colab-df-convert {\n",
              "      background-color: #3B4455;\n",
              "      fill: #D2E3FC;\n",
              "    }\n",
              "\n",
              "    [theme=dark] .colab-df-convert:hover {\n",
              "      background-color: #434B5C;\n",
              "      box-shadow: 0px 1px 3px 1px rgba(0, 0, 0, 0.15);\n",
              "      filter: drop-shadow(0px 1px 2px rgba(0, 0, 0, 0.3));\n",
              "      fill: #FFFFFF;\n",
              "    }\n",
              "  </style>\n",
              "\n",
              "      <script>\n",
              "        const buttonEl =\n",
              "          document.querySelector('#df-da389b27-c439-4760-a637-43b7f9f5a2ba button.colab-df-convert');\n",
              "        buttonEl.style.display =\n",
              "          google.colab.kernel.accessAllowed ? 'block' : 'none';\n",
              "\n",
              "        async function convertToInteractive(key) {\n",
              "          const element = document.querySelector('#df-da389b27-c439-4760-a637-43b7f9f5a2ba');\n",
              "          const dataTable =\n",
              "            await google.colab.kernel.invokeFunction('convertToInteractive',\n",
              "                                                     [key], {});\n",
              "          if (!dataTable) return;\n",
              "\n",
              "          const docLinkHtml = 'Like what you see? Visit the ' +\n",
              "            '<a target=\"_blank\" href=https://colab.research.google.com/notebooks/data_table.ipynb>data table notebook</a>'\n",
              "            + ' to learn more about interactive tables.';\n",
              "          element.innerHTML = '';\n",
              "          dataTable['output_type'] = 'display_data';\n",
              "          await google.colab.output.renderOutput(dataTable, element);\n",
              "          const docLink = document.createElement('div');\n",
              "          docLink.innerHTML = docLinkHtml;\n",
              "          element.appendChild(docLink);\n",
              "        }\n",
              "      </script>\n",
              "    </div>\n",
              "  </div>\n",
              "  "
            ]
          },
          "metadata": {},
          "execution_count": 118
        }
      ]
    },
    {
      "cell_type": "code",
      "source": [
        "print(f\"Accuracy is {sklearn.metrics.accuracy_score(result_df['true_category'], result_df['predicted_category'])}\")"
      ],
      "metadata": {
        "colab": {
          "base_uri": "https://localhost:8080/"
        },
        "id": "ddvDFAiTiP2m",
        "outputId": "21fa54b5-bba3-47ca-e0fe-72eee3b03296"
      },
      "execution_count": null,
      "outputs": [
        {
          "output_type": "stream",
          "name": "stdout",
          "text": [
            "Accuracy is 0.918918918918919\n"
          ]
        }
      ]
    },
    {
      "cell_type": "code",
      "source": [
        "result_df[result_df['true_category']!=result_df['predicted_category']]"
      ],
      "metadata": {
        "colab": {
          "base_uri": "https://localhost:8080/",
          "height": 1000
        },
        "id": "49beoWCBijjk",
        "outputId": "a4765520-7699-42fa-e7ca-8f1888d0768f"
      },
      "execution_count": null,
      "outputs": [
        {
          "output_type": "execute_result",
          "data": {
            "text/plain": [
              "                                  description  true_category  \\\n",
              "2                players sought for $1m prize              5   \n",
              "5               baghdad blogger on big screen              2   \n",
              "9             putting a face to 'big brother'              5   \n",
              "20            mandelson warns bbc on campbell              3   \n",
              "23           smith aims to bring back respect              4   \n",
              "27           home loan approvals rising again              1   \n",
              "31             europe asks asia for euro help              1   \n",
              "43          wife swap makers sue us 'copycat'              2   \n",
              "45           label withdraws mcfadden's video              2   \n",
              "52           sir paul rocks super bowl crowds              2   \n",
              "74           mixed christmas for us retailers              1   \n",
              "80           laura ashley chief stepping down              1   \n",
              "90            man utd to open books to glazer              1   \n",
              "125           train strike grips buenos aires              1   \n",
              "134  world leaders gather to face uncertainty              1   \n",
              "138          sir paul rocks super bowl crowds              2   \n",
              "153          golden rule boost for chancellor              1   \n",
              "179           jones happy with henson heroics              4   \n",
              "196            brazil plays down varig rescue              1   \n",
              "233         'fido' to be taken off vote lists              3   \n",
              "257          tulu to appear at caledonian run              4   \n",
              "267           game warnings 'must be clearer'              3   \n",
              "277         ban on forced retirement under 65              1   \n",
              "285         soros group warns of kazakh close              1   \n",
              "299          'post-christmas lull' in lending              1   \n",
              "316         pension hitch for long-living men              1   \n",
              "320         honda wins china copyright ruling              1   \n",
              "331          bening makes awards breakthrough              2   \n",
              "362          media seek jackson 'juror' notes              2   \n",
              "371           q&a: malcolm glazer and man utd              1   \n",
              "376         split-caps pay £194m compensation              1   \n",
              "384         hariri killing hits beirut shares              1   \n",
              "395           bush website blocked outside us              5   \n",
              "\n",
              "     predicted_category  \n",
              "2                     4  \n",
              "5                     5  \n",
              "9                     2  \n",
              "20                    4  \n",
              "23                    3  \n",
              "27                    3  \n",
              "31                    4  \n",
              "43                    3  \n",
              "45                    4  \n",
              "52                    4  \n",
              "74                    2  \n",
              "80                    3  \n",
              "90                    4  \n",
              "125                   4  \n",
              "134                   3  \n",
              "138                   4  \n",
              "153                   3  \n",
              "179                   2  \n",
              "196                   4  \n",
              "233                   2  \n",
              "257                   2  \n",
              "267                   5  \n",
              "277                   4  \n",
              "285                   3  \n",
              "299                   3  \n",
              "316                   3  \n",
              "320                   5  \n",
              "331                   4  \n",
              "362                   3  \n",
              "371                   3  \n",
              "376                   4  \n",
              "384                   4  \n",
              "395                   3  "
            ],
            "text/html": [
              "\n",
              "  <div id=\"df-269ce5e8-e3f1-4218-a3fb-7547c5fa200a\">\n",
              "    <div class=\"colab-df-container\">\n",
              "      <div>\n",
              "<style scoped>\n",
              "    .dataframe tbody tr th:only-of-type {\n",
              "        vertical-align: middle;\n",
              "    }\n",
              "\n",
              "    .dataframe tbody tr th {\n",
              "        vertical-align: top;\n",
              "    }\n",
              "\n",
              "    .dataframe thead th {\n",
              "        text-align: right;\n",
              "    }\n",
              "</style>\n",
              "<table border=\"1\" class=\"dataframe\">\n",
              "  <thead>\n",
              "    <tr style=\"text-align: right;\">\n",
              "      <th></th>\n",
              "      <th>description</th>\n",
              "      <th>true_category</th>\n",
              "      <th>predicted_category</th>\n",
              "    </tr>\n",
              "  </thead>\n",
              "  <tbody>\n",
              "    <tr>\n",
              "      <th>2</th>\n",
              "      <td>players sought for $1m prize</td>\n",
              "      <td>5</td>\n",
              "      <td>4</td>\n",
              "    </tr>\n",
              "    <tr>\n",
              "      <th>5</th>\n",
              "      <td>baghdad blogger on big screen</td>\n",
              "      <td>2</td>\n",
              "      <td>5</td>\n",
              "    </tr>\n",
              "    <tr>\n",
              "      <th>9</th>\n",
              "      <td>putting a face to 'big brother'</td>\n",
              "      <td>5</td>\n",
              "      <td>2</td>\n",
              "    </tr>\n",
              "    <tr>\n",
              "      <th>20</th>\n",
              "      <td>mandelson warns bbc on campbell</td>\n",
              "      <td>3</td>\n",
              "      <td>4</td>\n",
              "    </tr>\n",
              "    <tr>\n",
              "      <th>23</th>\n",
              "      <td>smith aims to bring back respect</td>\n",
              "      <td>4</td>\n",
              "      <td>3</td>\n",
              "    </tr>\n",
              "    <tr>\n",
              "      <th>27</th>\n",
              "      <td>home loan approvals rising again</td>\n",
              "      <td>1</td>\n",
              "      <td>3</td>\n",
              "    </tr>\n",
              "    <tr>\n",
              "      <th>31</th>\n",
              "      <td>europe asks asia for euro help</td>\n",
              "      <td>1</td>\n",
              "      <td>4</td>\n",
              "    </tr>\n",
              "    <tr>\n",
              "      <th>43</th>\n",
              "      <td>wife swap makers sue us 'copycat'</td>\n",
              "      <td>2</td>\n",
              "      <td>3</td>\n",
              "    </tr>\n",
              "    <tr>\n",
              "      <th>45</th>\n",
              "      <td>label withdraws mcfadden's video</td>\n",
              "      <td>2</td>\n",
              "      <td>4</td>\n",
              "    </tr>\n",
              "    <tr>\n",
              "      <th>52</th>\n",
              "      <td>sir paul rocks super bowl crowds</td>\n",
              "      <td>2</td>\n",
              "      <td>4</td>\n",
              "    </tr>\n",
              "    <tr>\n",
              "      <th>74</th>\n",
              "      <td>mixed christmas for us retailers</td>\n",
              "      <td>1</td>\n",
              "      <td>2</td>\n",
              "    </tr>\n",
              "    <tr>\n",
              "      <th>80</th>\n",
              "      <td>laura ashley chief stepping down</td>\n",
              "      <td>1</td>\n",
              "      <td>3</td>\n",
              "    </tr>\n",
              "    <tr>\n",
              "      <th>90</th>\n",
              "      <td>man utd to open books to glazer</td>\n",
              "      <td>1</td>\n",
              "      <td>4</td>\n",
              "    </tr>\n",
              "    <tr>\n",
              "      <th>125</th>\n",
              "      <td>train strike grips buenos aires</td>\n",
              "      <td>1</td>\n",
              "      <td>4</td>\n",
              "    </tr>\n",
              "    <tr>\n",
              "      <th>134</th>\n",
              "      <td>world leaders gather to face uncertainty</td>\n",
              "      <td>1</td>\n",
              "      <td>3</td>\n",
              "    </tr>\n",
              "    <tr>\n",
              "      <th>138</th>\n",
              "      <td>sir paul rocks super bowl crowds</td>\n",
              "      <td>2</td>\n",
              "      <td>4</td>\n",
              "    </tr>\n",
              "    <tr>\n",
              "      <th>153</th>\n",
              "      <td>golden rule boost for chancellor</td>\n",
              "      <td>1</td>\n",
              "      <td>3</td>\n",
              "    </tr>\n",
              "    <tr>\n",
              "      <th>179</th>\n",
              "      <td>jones happy with henson heroics</td>\n",
              "      <td>4</td>\n",
              "      <td>2</td>\n",
              "    </tr>\n",
              "    <tr>\n",
              "      <th>196</th>\n",
              "      <td>brazil plays down varig rescue</td>\n",
              "      <td>1</td>\n",
              "      <td>4</td>\n",
              "    </tr>\n",
              "    <tr>\n",
              "      <th>233</th>\n",
              "      <td>'fido' to be taken off vote lists</td>\n",
              "      <td>3</td>\n",
              "      <td>2</td>\n",
              "    </tr>\n",
              "    <tr>\n",
              "      <th>257</th>\n",
              "      <td>tulu to appear at caledonian run</td>\n",
              "      <td>4</td>\n",
              "      <td>2</td>\n",
              "    </tr>\n",
              "    <tr>\n",
              "      <th>267</th>\n",
              "      <td>game warnings 'must be clearer'</td>\n",
              "      <td>3</td>\n",
              "      <td>5</td>\n",
              "    </tr>\n",
              "    <tr>\n",
              "      <th>277</th>\n",
              "      <td>ban on forced retirement under 65</td>\n",
              "      <td>1</td>\n",
              "      <td>4</td>\n",
              "    </tr>\n",
              "    <tr>\n",
              "      <th>285</th>\n",
              "      <td>soros group warns of kazakh close</td>\n",
              "      <td>1</td>\n",
              "      <td>3</td>\n",
              "    </tr>\n",
              "    <tr>\n",
              "      <th>299</th>\n",
              "      <td>'post-christmas lull' in lending</td>\n",
              "      <td>1</td>\n",
              "      <td>3</td>\n",
              "    </tr>\n",
              "    <tr>\n",
              "      <th>316</th>\n",
              "      <td>pension hitch for long-living men</td>\n",
              "      <td>1</td>\n",
              "      <td>3</td>\n",
              "    </tr>\n",
              "    <tr>\n",
              "      <th>320</th>\n",
              "      <td>honda wins china copyright ruling</td>\n",
              "      <td>1</td>\n",
              "      <td>5</td>\n",
              "    </tr>\n",
              "    <tr>\n",
              "      <th>331</th>\n",
              "      <td>bening makes awards breakthrough</td>\n",
              "      <td>2</td>\n",
              "      <td>4</td>\n",
              "    </tr>\n",
              "    <tr>\n",
              "      <th>362</th>\n",
              "      <td>media seek jackson 'juror' notes</td>\n",
              "      <td>2</td>\n",
              "      <td>3</td>\n",
              "    </tr>\n",
              "    <tr>\n",
              "      <th>371</th>\n",
              "      <td>q&amp;a: malcolm glazer and man utd</td>\n",
              "      <td>1</td>\n",
              "      <td>3</td>\n",
              "    </tr>\n",
              "    <tr>\n",
              "      <th>376</th>\n",
              "      <td>split-caps pay £194m compensation</td>\n",
              "      <td>1</td>\n",
              "      <td>4</td>\n",
              "    </tr>\n",
              "    <tr>\n",
              "      <th>384</th>\n",
              "      <td>hariri killing hits beirut shares</td>\n",
              "      <td>1</td>\n",
              "      <td>4</td>\n",
              "    </tr>\n",
              "    <tr>\n",
              "      <th>395</th>\n",
              "      <td>bush website blocked outside us</td>\n",
              "      <td>5</td>\n",
              "      <td>3</td>\n",
              "    </tr>\n",
              "  </tbody>\n",
              "</table>\n",
              "</div>\n",
              "      <button class=\"colab-df-convert\" onclick=\"convertToInteractive('df-269ce5e8-e3f1-4218-a3fb-7547c5fa200a')\"\n",
              "              title=\"Convert this dataframe to an interactive table.\"\n",
              "              style=\"display:none;\">\n",
              "        \n",
              "  <svg xmlns=\"http://www.w3.org/2000/svg\" height=\"24px\"viewBox=\"0 0 24 24\"\n",
              "       width=\"24px\">\n",
              "    <path d=\"M0 0h24v24H0V0z\" fill=\"none\"/>\n",
              "    <path d=\"M18.56 5.44l.94 2.06.94-2.06 2.06-.94-2.06-.94-.94-2.06-.94 2.06-2.06.94zm-11 1L8.5 8.5l.94-2.06 2.06-.94-2.06-.94L8.5 2.5l-.94 2.06-2.06.94zm10 10l.94 2.06.94-2.06 2.06-.94-2.06-.94-.94-2.06-.94 2.06-2.06.94z\"/><path d=\"M17.41 7.96l-1.37-1.37c-.4-.4-.92-.59-1.43-.59-.52 0-1.04.2-1.43.59L10.3 9.45l-7.72 7.72c-.78.78-.78 2.05 0 2.83L4 21.41c.39.39.9.59 1.41.59.51 0 1.02-.2 1.41-.59l7.78-7.78 2.81-2.81c.8-.78.8-2.07 0-2.86zM5.41 20L4 18.59l7.72-7.72 1.47 1.35L5.41 20z\"/>\n",
              "  </svg>\n",
              "      </button>\n",
              "      \n",
              "  <style>\n",
              "    .colab-df-container {\n",
              "      display:flex;\n",
              "      flex-wrap:wrap;\n",
              "      gap: 12px;\n",
              "    }\n",
              "\n",
              "    .colab-df-convert {\n",
              "      background-color: #E8F0FE;\n",
              "      border: none;\n",
              "      border-radius: 50%;\n",
              "      cursor: pointer;\n",
              "      display: none;\n",
              "      fill: #1967D2;\n",
              "      height: 32px;\n",
              "      padding: 0 0 0 0;\n",
              "      width: 32px;\n",
              "    }\n",
              "\n",
              "    .colab-df-convert:hover {\n",
              "      background-color: #E2EBFA;\n",
              "      box-shadow: 0px 1px 2px rgba(60, 64, 67, 0.3), 0px 1px 3px 1px rgba(60, 64, 67, 0.15);\n",
              "      fill: #174EA6;\n",
              "    }\n",
              "\n",
              "    [theme=dark] .colab-df-convert {\n",
              "      background-color: #3B4455;\n",
              "      fill: #D2E3FC;\n",
              "    }\n",
              "\n",
              "    [theme=dark] .colab-df-convert:hover {\n",
              "      background-color: #434B5C;\n",
              "      box-shadow: 0px 1px 3px 1px rgba(0, 0, 0, 0.15);\n",
              "      filter: drop-shadow(0px 1px 2px rgba(0, 0, 0, 0.3));\n",
              "      fill: #FFFFFF;\n",
              "    }\n",
              "  </style>\n",
              "\n",
              "      <script>\n",
              "        const buttonEl =\n",
              "          document.querySelector('#df-269ce5e8-e3f1-4218-a3fb-7547c5fa200a button.colab-df-convert');\n",
              "        buttonEl.style.display =\n",
              "          google.colab.kernel.accessAllowed ? 'block' : 'none';\n",
              "\n",
              "        async function convertToInteractive(key) {\n",
              "          const element = document.querySelector('#df-269ce5e8-e3f1-4218-a3fb-7547c5fa200a');\n",
              "          const dataTable =\n",
              "            await google.colab.kernel.invokeFunction('convertToInteractive',\n",
              "                                                     [key], {});\n",
              "          if (!dataTable) return;\n",
              "\n",
              "          const docLinkHtml = 'Like what you see? Visit the ' +\n",
              "            '<a target=\"_blank\" href=https://colab.research.google.com/notebooks/data_table.ipynb>data table notebook</a>'\n",
              "            + ' to learn more about interactive tables.';\n",
              "          element.innerHTML = '';\n",
              "          dataTable['output_type'] = 'display_data';\n",
              "          await google.colab.output.renderOutput(dataTable, element);\n",
              "          const docLink = document.createElement('div');\n",
              "          docLink.innerHTML = docLinkHtml;\n",
              "          element.appendChild(docLink);\n",
              "        }\n",
              "      </script>\n",
              "    </div>\n",
              "  </div>\n",
              "  "
            ]
          },
          "metadata": {},
          "execution_count": 120
        }
      ]
    },
    {
      "cell_type": "code",
      "source": [
        "confusion_mat = confusion_matrix(y_true = true_category, y_pred = predicted_category, labels=list(encoded_classes))"
      ],
      "metadata": {
        "id": "7OqmLOnGilVV"
      },
      "execution_count": null,
      "outputs": []
    },
    {
      "cell_type": "code",
      "source": [
        "df_cm = pd.DataFrame(confusion_mat, index = list(encoded_classes),columns = list(encoded_classes))\n",
        "plt.rcParams['figure.figsize'] = (10,10)\n",
        "sns.heatmap(df_cm, annot=True)"
      ],
      "metadata": {
        "colab": {
          "base_uri": "https://localhost:8080/",
          "height": 650
        },
        "id": "fC6upBzFiqhN",
        "outputId": "48488c8e-6f62-4736-fe48-09a73c8513f7"
      },
      "execution_count": null,
      "outputs": [
        {
          "output_type": "execute_result",
          "data": {
            "text/plain": [
              "<matplotlib.axes._subplots.AxesSubplot at 0x7f4cc53680d0>"
            ]
          },
          "metadata": {},
          "execution_count": 122
        },
        {
          "output_type": "display_data",
          "data": {
            "text/plain": [
              "<Figure size 720x720 with 2 Axes>"
            ],
            "image/png": "[encoded data removed]"
          },
          "metadata": {}
        }
      ]
    },
    {
      "cell_type": "markdown",
      "source": [
        "### Concatanate image and text feature and use transformer to train"
      ],
      "metadata": {
        "id": "ZqyGJ3CJuhVc"
      }
    },
    {
      "cell_type": "code",
      "source": [
        "def train(args, train_dataset, model, tokenizer, criterion):\n",
        "    if args.local_rank in [-1, 0]:\n",
        "        tb_writer = SummaryWriter()\n",
        "\n",
        "    args.train_batch_size = args.per_gpu_train_batch_size * max(1, args.n_gpu)\n",
        "    train_sampler = RandomSampler(train_dataset) if args.local_rank == -1 else DistributedSampler(train_dataset)\n",
        "    train_dataloader = DataLoader(\n",
        "        train_dataset,\n",
        "        sampler=train_sampler,\n",
        "        batch_size=args.train_batch_size,\n",
        "        collate_fn=collate_fn,\n",
        "        num_workers=args.num_workers,\n",
        "    )\n",
        "\n",
        "    if args.max_steps > 0:\n",
        "        t_total = args.max_steps\n",
        "        args.num_train_epochs = args.max_steps // (len(train_dataloader) // args.gradient_accumulation_steps) + 1\n",
        "    else:\n",
        "        t_total = len(train_dataloader) // args.gradient_accumulation_steps * args.num_train_epochs\n",
        "\n",
        "    no_decay = [\"bias\", \"LayerNorm.weight\"]\n",
        "    optimizer_grouped_parameters = [\n",
        "        {\n",
        "            \"params\": [p for n, p in model.named_parameters() if not any(nd in n for nd in no_decay)],\n",
        "            \"weight_decay\": args.weight_decay,\n",
        "        },\n",
        "        {\"params\": [p for n, p in model.named_parameters() if any(nd in n for nd in no_decay)], \"weight_decay\": 0.0},\n",
        "    ]\n",
        "\n",
        "    optimizer = Adam(optimizer_grouped_parameters, lr=args.learning_rate, eps=args.adam_epsilon)\n",
        "    scheduler = get_linear_schedule_with_warmup(\n",
        "        optimizer, num_warmup_steps=args.warmup_steps, num_training_steps=t_total\n",
        "    )\n",
        "    if args.fp16:\n",
        "        try:\n",
        "            from apex import amp\n",
        "        except ImportError:\n",
        "            raise ImportError(\"Please install apex from https://www.github.com/nvidia/apex to use fp16 training.\")\n",
        "        model, optimizer = amp.initialize(model, optimizer, opt_level=args.fp16_opt_level)\n",
        "\n",
        "    if args.n_gpu > 1:\n",
        "        model = nn.DataParallel(model)\n",
        "\n",
        "    if args.local_rank != -1:\n",
        "        model = nn.parallel.DistributedDataParallel(\n",
        "            model, device_ids=[args.local_rank], output_device=args.local_rank, find_unused_parameters=True\n",
        "        )\n",
        "\n",
        "    global_step = 0\n",
        "    tr_loss, logging_loss = 0.0, 0.0\n",
        "    best_f1, n_no_improve = 0, 0\n",
        "    model.zero_grad()\n",
        "    train_iterator = trange(int(args.num_train_epochs), desc=\"Epoch\", disable=args.local_rank not in [-1, 0])\n",
        "    for _ in train_iterator:\n",
        "        epoch_iterator = tqdm(train_dataloader, desc=\"Iteration\", disable=args.local_rank not in [-1, 0])\n",
        "        for step, batch in enumerate(epoch_iterator):\n",
        "            model.train()\n",
        "            batch = tuple(t.to(args.device) for t in batch)\n",
        "            labels = batch[5]\n",
        "            inputs = {\n",
        "                \"input_ids\": batch[0],\n",
        "                \"input_modal\": batch[2],\n",
        "                \"attention_mask\": batch[1],\n",
        "                \"modal_start_tokens\": batch[3],\n",
        "                \"modal_end_tokens\": batch[4],\n",
        "            }\n",
        "            outputs = model(**inputs)\n",
        "            logits = outputs[0]  # model outputs are always tuple in transformers (see doc)\n",
        "            loss = criterion(logits, labels)\n",
        "\n",
        "            if args.n_gpu > 1:\n",
        "                loss = loss.mean() \n",
        "            if args.gradient_accumulation_steps > 1:\n",
        "                loss = loss / args.gradient_accumulation_steps\n",
        "\n",
        "            if args.fp16:\n",
        "                with amp.scale_loss(loss, optimizer) as scaled_loss:\n",
        "                    scaled_loss.backward()\n",
        "            else:\n",
        "                loss.backward()\n",
        "\n",
        "            tr_loss += loss.item()\n",
        "            if (step + 1) % args.gradient_accumulation_steps == 0:\n",
        "                if args.fp16:\n",
        "                    nn.utils.clip_grad_norm_(amp.master_params(optimizer), args.max_grad_norm)\n",
        "                else:\n",
        "                    nn.utils.clip_grad_norm_(model.parameters(), args.max_grad_norm)\n",
        "\n",
        "                optimizer.step()\n",
        "                scheduler.step() \n",
        "                model.zero_grad()\n",
        "                global_step += 1\n",
        "\n",
        "                if args.local_rank in [-1, 0] and args.logging_steps > 0 and global_step % args.logging_steps == 0:\n",
        "                    logs = {}\n",
        "                    if (\n",
        "                        args.local_rank == -1 and args.evaluate_during_training\n",
        "                    ): \n",
        "                        results = evaluate(args, model, tokenizer, criterion)\n",
        "                        for key, value in results.items():\n",
        "                            eval_key = \"eval_{}\".format(key)\n",
        "                            logs[eval_key] = value\n",
        "\n",
        "                    loss_scalar = (tr_loss - logging_loss) / args.logging_steps\n",
        "                    learning_rate_scalar = scheduler.get_lr()[0]\n",
        "                    logs[\"learning_rate\"] = learning_rate_scalar\n",
        "                    logs[\"loss\"] = loss_scalar\n",
        "                    logging_loss = tr_loss\n",
        "\n",
        "                    for key, value in logs.items():\n",
        "                        tb_writer.add_scalar(key, value, global_step)\n",
        "                    print(json.dumps({**logs, **{\"step\": global_step}}))\n",
        "\n",
        "                if args.local_rank in [-1, 0] and args.save_steps > 0 and global_step % args.save_steps == 0:\n",
        "                    # Save model checkpoint\n",
        "                    output_dir = os.path.join(args.output_dir, \"checkpoint-{}\".format(global_step))\n",
        "                    if not os.path.exists(output_dir):\n",
        "                        os.makedirs(output_dir)\n",
        "                    model_to_save = (\n",
        "                        model.module if hasattr(model, \"module\") else model\n",
        "                    )  # Take care of distributed/parallel training\n",
        "                    torch.save(model_to_save.state_dict(), os.path.join(output_dir, WEIGHTS_NAME))\n",
        "                    torch.save(args, os.path.join(output_dir, \"training_args.bin\"))\n",
        "\n",
        "            if args.max_steps > 0 and global_step > args.max_steps:\n",
        "                epoch_iterator.close()\n",
        "                break\n",
        "        if args.max_steps > 0 and global_step > args.max_steps:\n",
        "            train_iterator.close()\n",
        "            break\n",
        "\n",
        "        if args.local_rank == -1:\n",
        "            results = evaluate(args, model, tokenizer, criterion)\n",
        "            if results[\"micro_f1\"] > best_f1:\n",
        "                best_f1 = results[\"micro_f1\"]\n",
        "                n_no_improve = 0\n",
        "            else:\n",
        "                n_no_improve += 1\n",
        "\n",
        "            if n_no_improve > args.patience:\n",
        "                train_iterator.close()\n",
        "                break\n",
        "\n",
        "    if args.local_rank in [-1, 0]:\n",
        "        tb_writer.close()\n",
        "\n",
        "    return global_step, tr_loss / global_step\n"
      ],
      "metadata": {
        "id": "VmEHjqRf_ir8"
      },
      "execution_count": null,
      "outputs": []
    },
    {
      "cell_type": "code",
      "source": [
        "\n",
        "def evaluate(args, model, tokenizer, criterion, prefix=\"\"):\n",
        "    eval_output_dir = args.output_dir\n",
        "    eval_dataset = load_examples(args, tokenizer, evaluate=True)\n",
        "\n",
        "    if not os.path.exists(eval_output_dir) and args.local_rank in [-1, 0]:\n",
        "        os.makedirs(eval_output_dir)\n",
        "\n",
        "    args.eval_batch_size = args.per_gpu_eval_batch_size * max(1, args.n_gpu)\n",
        "    eval_sampler = SequentialSampler(eval_dataset)\n",
        "    eval_dataloader = DataLoader(\n",
        "        eval_dataset, sampler=eval_sampler, batch_size=args.eval_batch_size, collate_fn=collate_fn\n",
        "    )\n",
        "\n",
        "    if args.n_gpu > 1 and not isinstance(model, nn.DataParallel):\n",
        "        model = nn.DataParallel(model)\n",
        "\n",
        "    logger.info(\"***** Running evaluation {} *****\".format(prefix))\n",
        "    logger.info(\"  Num examples = %d\", len(eval_dataset))\n",
        "    logger.info(\"  Batch size = %d\", args.eval_batch_size)\n",
        "    eval_loss = 0.0\n",
        "    nb_eval_steps = 0\n",
        "    preds = None\n",
        "    out_label_ids = None\n",
        "    for batch in tqdm(eval_dataloader, desc=\"Evaluating\"):\n",
        "        model.eval()\n",
        "        batch = tuple(t.to(args.device) for t in batch)\n",
        "\n",
        "        with torch.no_grad():\n",
        "            batch = tuple(t.to(args.device) for t in batch)\n",
        "            labels = batch[5]\n",
        "            inputs = {\n",
        "                \"input_ids\": batch[0],\n",
        "                \"input_modal\": batch[2],\n",
        "                \"attention_mask\": batch[1],\n",
        "                \"modal_start_tokens\": batch[3],\n",
        "                \"modal_end_tokens\": batch[4],\n",
        "            }\n",
        "            outputs = model(**inputs)\n",
        "            logits = outputs[0]  # model outputs are always tuple in transformers (see doc)\n",
        "            tmp_eval_loss = criterion(logits, labels)\n",
        "            eval_loss += tmp_eval_loss.mean().item()\n",
        "        nb_eval_steps += 1\n",
        "        if preds is None:\n",
        "            preds = torch.sigmoid(logits).detach().cpu().numpy() > 0.5\n",
        "            out_label_ids = labels.detach().cpu().numpy()\n",
        "        else:\n",
        "            preds = np.append(preds, torch.sigmoid(logits).detach().cpu().numpy() > 0.5, axis=0)\n",
        "            out_label_ids = np.append(out_label_ids, labels.detach().cpu().numpy(), axis=0)\n",
        "\n",
        "    eval_loss = eval_loss / nb_eval_steps\n",
        "    result = {\n",
        "        \"loss\": eval_loss,\n",
        "        \"macro_f1\": f1_score(out_label_ids, preds, average=\"macro\"),\n",
        "        \"micro_f1\": f1_score(out_label_ids, preds, average=\"micro\"),\n",
        "    }\n",
        "\n",
        "    output_eval_file = os.path.join(eval_output_dir, prefix, \"eval_results.txt\")\n",
        "    with open(output_eval_file, \"w\") as writer:\n",
        "        for key in sorted(result.keys()):\n",
        "            writer.write(\"%s = %s\\n\" % (key, str(result[key])))\n",
        "\n",
        "    return result"
      ],
      "metadata": {
        "id": "VncrsyK8_7ts"
      },
      "execution_count": null,
      "outputs": []
    },
    {
      "cell_type": "code",
      "source": [
        "import numpy as np\n",
        "a2=np.array(result)\n",
        "np.save('result2.npy',a2)"
      ],
      "metadata": {
        "id": "D7UEcuDt_HUS"
      },
      "execution_count": null,
      "outputs": []
    },
    {
      "cell_type": "code",
      "source": [
        "file2=np.array(file)\n",
        "np.save('file2.npy',file2)"
      ],
      "metadata": {
        "id": "alugD-2nhrng"
      },
      "execution_count": null,
      "outputs": []
    },
    {
      "cell_type": "code",
      "source": [
        "result=np.load('result.npy')\n",
        "result=result.tolist()\n",
        "file=np.load('file.npy')\n",
        "file=file.tolist()\n",
        "for i in range(len(file)):\n",
        "  file[i] = file[i][0:4]\n",
        "file2=np.load('file2.npy')\n",
        "file2=file2.tolist()\n",
        "for i in range(len(file2)):\n",
        "  file2[i] = file2[i][0:4]\n",
        "result2=np.load('result2.npy')\n",
        "result2=result2.tolist()"
      ],
      "metadata": {
        "id": "_UT4CsPPlZuN"
      },
      "execution_count": null,
      "outputs": []
    },
    {
      "cell_type": "code",
      "source": [
        "dic = {}\n",
        "for i in range(len(result)):\n",
        "  for j in range(len(result[i])):\n",
        "    result[i][j] = result[i][j]\n",
        "for i in range(len(file)):\n",
        "  dic[file[i]] = result[i]\n",
        "for j in range(len(file2)):\n",
        "  dic[file2[j]] = np.sum([dic[file2[j]],result2[j]],axis=0)"
      ],
      "metadata": {
        "id": "SRjhKbbWixxi"
      },
      "execution_count": null,
      "outputs": []
    },
    {
      "cell_type": "code",
      "source": [
        "cor = 0\n",
        "err = 0\n",
        "errs = []\n",
        "y_pred = []\n",
        "for i in dic:\n",
        "  label = (int)(i[0])\n",
        "  max = 0\n",
        "  index = 0\n",
        "  for j in range(len(dic[i])):\n",
        "    if dic[i][j] > max:\n",
        "      max = dic[i][j]\n",
        "      index = j + 1\n",
        "  if label == index:\n",
        "    cor += 1\n",
        "  else:\n",
        "    err += 1\n",
        "    errs.append(i)  \n",
        "  y_pred.append(index)     "
      ],
      "metadata": {
        "id": "c_c3mOLbjdB8"
      },
      "execution_count": null,
      "outputs": []
    },
    {
      "cell_type": "code",
      "source": [
        "y_true = []\n",
        "for i in list(dic.keys()):\n",
        "  y_true.append(int(i[0]))"
      ],
      "metadata": {
        "id": "dDkZk4WUcFaW"
      },
      "execution_count": null,
      "outputs": []
    },
    {
      "cell_type": "code",
      "source": [
        "res = 0\n",
        "for i in y_true:\n",
        "  if i==2:\n",
        "    res += 1\n",
        "res"
      ],
      "metadata": {
        "colab": {
          "base_uri": "https://localhost:8080/"
        },
        "id": "qVfGyUqPRUz_",
        "outputId": "7589f508-d7b2-4444-9afb-0a6f2911dc59"
      },
      "execution_count": null,
      "outputs": [
        {
          "output_type": "execute_result",
          "data": {
            "text/plain": [
              "80"
            ]
          },
          "metadata": {},
          "execution_count": 21
        }
      ]
    },
    {
      "cell_type": "markdown",
      "source": [
        "### Evaluate the model"
      ],
      "metadata": {
        "id": "upxC_WVNuj90"
      }
    },
    {
      "cell_type": "markdown",
      "source": [
        "### When use image and title in multimodal"
      ],
      "metadata": {
        "id": "ft5Vq99-u6o5"
      }
    },
    {
      "cell_type": "code",
      "source": [
        "print('Test Data accuracy: ', cor/(cor+err))"
      ],
      "metadata": {
        "colab": {
          "base_uri": "https://localhost:8080/"
        },
        "id": "cgBwtWFmkHWI",
        "outputId": "400f8bdd-e096-4cb5-c437-6393ba3f6824"
      },
      "execution_count": null,
      "outputs": [
        {
          "output_type": "stream",
          "name": "stdout",
          "text": [
            "Test Data accuracy:  0.9705159705159705\n"
          ]
        }
      ]
    },
    {
      "cell_type": "code",
      "source": [
        "confusion_mat = confusion_matrix(y_true = y_true, y_pred = y_pred, labels= list(encoded_classes))"
      ],
      "metadata": {
        "id": "caruJCR3sS-9"
      },
      "execution_count": null,
      "outputs": []
    },
    {
      "cell_type": "code",
      "source": [
        "df_cm = pd.DataFrame(confusion_mat, index = list(encoded_classes),columns = list(encoded_classes))\n",
        "plt.rcParams['figure.figsize'] = (10,10)\n",
        "sns.heatmap(df_cm, annot=True)"
      ],
      "metadata": {
        "colab": {
          "base_uri": "https://localhost:8080/",
          "height": 650
        },
        "id": "c4NBQOY4aqB1",
        "outputId": "71ffeb47-0c9e-4a71-f3fa-bf8747769baf"
      },
      "execution_count": null,
      "outputs": [
        {
          "output_type": "execute_result",
          "data": {
            "text/plain": [
              "<matplotlib.axes._subplots.AxesSubplot at 0x7f56ad4e8510>"
            ]
          },
          "metadata": {},
          "execution_count": 27
        },
        {
          "output_type": "display_data",
          "data": {
            "text/plain": [
              "<Figure size 720x720 with 2 Axes>"
            ],
            "image/png": "[encoded data removed]"
          },
          "metadata": {}
        }
      ]
    },
    {
      "cell_type": "markdown",
      "source": [
        "### When use main text and title in multimodal"
      ],
      "metadata": {
        "id": "-DHC0gEYvARw"
      }
    },
    {
      "cell_type": "code",
      "source": [
        "print('Test Data accuracy: ', cor/(cor+err))"
      ],
      "metadata": {
        "colab": {
          "base_uri": "https://localhost:8080/"
        },
        "id": "HahkDQRXvI4O",
        "outputId": "d2a1b58f-7f4c-4780-b665-e0ab3c02129f"
      },
      "execution_count": null,
      "outputs": [
        {
          "output_type": "stream",
          "name": "stdout",
          "text": [
            "Test Data accuracy:  0.9803439803439803\n"
          ]
        }
      ]
    },
    {
      "cell_type": "code",
      "source": [
        "confusion_mat = confusion_matrix(y_true = y_true, y_pred = y_pred, labels= list(encoded_classes))"
      ],
      "metadata": {
        "id": "ftSuuKIUv35L"
      },
      "execution_count": null,
      "outputs": []
    },
    {
      "cell_type": "code",
      "source": [
        "df_cm = pd.DataFrame(confusion_mat, index = list(encoded_classes),columns = list(encoded_classes))\n",
        "plt.rcParams['figure.figsize'] = (10,10)\n",
        "sns.heatmap(df_cm, annot=True)"
      ],
      "metadata": {
        "colab": {
          "base_uri": "https://localhost:8080/",
          "height": 650
        },
        "id": "nhtjC_JJv11b",
        "outputId": "c1a21e23-2397-442b-87dd-90f03359abde"
      },
      "execution_count": null,
      "outputs": [
        {
          "output_type": "execute_result",
          "data": {
            "text/plain": [
              "<matplotlib.axes._subplots.AxesSubplot at 0x7f56ad57e390>"
            ]
          },
          "metadata": {},
          "execution_count": 25
        },
        {
          "output_type": "display_data",
          "data": {
            "text/plain": [
              "<Figure size 720x720 with 2 Axes>"
            ],
            "image/png": "[encoded data removed]"
          },
          "metadata": {}
        }
      ]
    },
    {
      "cell_type": "code",
      "source": [
        ""
      ],
      "metadata": {
        "id": "fhEerxwtwdf2"
      },
      "execution_count": null,
      "outputs": []
    }
  ]
}